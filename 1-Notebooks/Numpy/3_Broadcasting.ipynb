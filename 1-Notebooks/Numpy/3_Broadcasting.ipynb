{
 "cells": [
  {
   "cell_type": "markdown",
   "metadata": {},
   "source": [
    "###### These exercises are inspired from Andrew Ng Coursera Deep Learning specialisation and INRIA FUN MOOC on Python "
   ]
  },
  {
   "cell_type": "markdown",
   "metadata": {},
   "source": [
    "Broadcasting in python is a mecanism which duplicates a scalar or vector to perform elementwise operations on matrix or vectors"
   ]
  },
  {
   "cell_type": "code",
   "execution_count": 1,
   "metadata": {},
   "outputs": [
    {
     "name": "stdout",
     "output_type": "stream",
     "text": [
      "[[0.77416691 0.22408676 0.0510692 ]\n",
      " [0.4923907  0.03395842 0.1483155 ]\n",
      " [0.05131575 0.58869329 0.31063052]\n",
      " [0.12123201 0.89003102 0.14015927]]\n"
     ]
    }
   ],
   "source": [
    "import numpy as np\n",
    "A = np.random.rand(4,3)\n",
    "print(A)"
   ]
  },
  {
   "cell_type": "markdown",
   "metadata": {},
   "source": [
    "For instance, we can broadcast a scalar b to add b to each element of A"
   ]
  },
  {
   "cell_type": "code",
   "execution_count": 13,
   "metadata": {},
   "outputs": [
    {
     "data": {
      "text/plain": [
       "array([[[2.74931731, 2.94175123, 2.20411958, 2.75756104, 2.79395681],\n",
       "        [2.0660369 , 2.01641014, 2.90683938, 2.72585508, 2.64848868],\n",
       "        [2.44920081, 2.79678855, 2.14363587, 2.45709468, 2.59866389]],\n",
       "\n",
       "       [[2.83051042, 2.33861961, 2.15276751, 2.12560067, 2.45334099],\n",
       "        [2.44714551, 2.4979457 , 2.34485592, 2.06131361, 2.10864827],\n",
       "        [2.7621195 , 2.79506279, 2.19135364, 2.11457318, 2.79037901]],\n",
       "\n",
       "       [[2.10684181, 2.9100713 , 2.31337414, 2.59593855, 2.84480296],\n",
       "        [2.61429927, 2.98893651, 2.95151774, 2.62733888, 2.49601939],\n",
       "        [2.88799189, 2.32895959, 2.01588637, 2.23112043, 2.65652954]],\n",
       "\n",
       "       [[2.83199305, 2.35121368, 2.88293631, 2.93272714, 2.70249558],\n",
       "        [2.70236497, 2.59067982, 2.13421244, 2.59988788, 2.92496646],\n",
       "        [2.49194728, 2.1034216 , 2.12267642, 2.37873676, 2.48765573]],\n",
       "\n",
       "       [[2.59165303, 2.09347783, 2.20595891, 2.24773111, 2.340295  ],\n",
       "        [2.71729191, 2.45688907, 2.4548473 , 2.02762855, 2.03133096],\n",
       "        [2.40723464, 2.15895341, 2.2713533 , 2.85560673, 2.09637364]],\n",
       "\n",
       "       [[2.91549539, 2.12665267, 2.48819692, 2.2461318 , 2.24562096],\n",
       "        [2.38209707, 2.49887159, 2.69539134, 2.41221114, 2.6996292 ],\n",
       "        [2.34069473, 2.54719857, 2.44064457, 2.76465997, 2.85218317]],\n",
       "\n",
       "       [[2.30459646, 2.17628976, 2.56033225, 2.22724619, 2.93694102],\n",
       "        [2.89198888, 2.33797792, 2.41317145, 2.68845667, 2.92684166],\n",
       "        [2.2751941 , 2.17004079, 2.74129662, 2.65929589, 2.73721474]],\n",
       "\n",
       "       [[2.68812363, 2.72384962, 2.8381437 , 2.2211387 , 2.64197324],\n",
       "        [2.01239089, 2.33948086, 2.10366587, 2.25685003, 2.51847474],\n",
       "        [2.97859455, 2.0645481 , 2.71514879, 2.35766275, 2.08182399]],\n",
       "\n",
       "       [[2.79672443, 2.51634828, 2.06512935, 2.4458966 , 2.59241077],\n",
       "        [2.21100558, 2.72204298, 2.61651071, 2.77092286, 2.78717857],\n",
       "        [2.89491189, 2.97806854, 2.17354671, 2.5514887 , 2.99348534]],\n",
       "\n",
       "       [[2.05871972, 2.62557713, 2.71655808, 2.08327   , 2.28290457],\n",
       "        [2.29737389, 2.00710057, 2.14988885, 2.86346046, 2.06107273],\n",
       "        [2.73330691, 2.17716959, 2.74397234, 2.27750879, 2.56260545]],\n",
       "\n",
       "       [[2.31441737, 2.02056213, 2.44429354, 2.85799069, 2.72421292],\n",
       "        [2.94825629, 2.72868634, 2.58192621, 2.53317471, 2.99793794],\n",
       "        [2.57626555, 2.31359104, 2.65468026, 2.94555926, 2.30698063]],\n",
       "\n",
       "       [[2.67275676, 2.62422443, 2.30026756, 2.87453539, 2.47645102],\n",
       "        [2.73221469, 2.76336991, 2.22305307, 2.8061566 , 2.64363184],\n",
       "        [2.41618298, 2.54434063, 2.58688038, 2.10227635, 2.7476466 ]],\n",
       "\n",
       "       [[2.80276487, 2.12169345, 2.4015323 , 2.39967069, 2.50075361],\n",
       "        [2.58347443, 2.5987707 , 2.13889051, 2.03231133, 2.29545819],\n",
       "        [2.89016557, 2.23335955, 2.5634173 , 2.51786372, 2.13591809]],\n",
       "\n",
       "       [[2.25035239, 2.12711947, 2.15415161, 2.81021009, 2.90719327],\n",
       "        [2.70838405, 2.00459691, 2.96839503, 2.20008035, 2.42839116],\n",
       "        [2.75236184, 2.95564718, 2.55652428, 2.22402174, 2.53721059]],\n",
       "\n",
       "       [[2.24155948, 2.52501565, 2.52189188, 2.48007647, 2.20052817],\n",
       "        [2.4438343 , 2.8533841 , 2.9569259 , 2.41981423, 2.91542446],\n",
       "        [2.20947484, 2.58196826, 2.99902632, 2.77079116, 2.82577601]]])"
      ]
     },
     "execution_count": 13,
     "metadata": {},
     "output_type": "execute_result"
    }
   ],
   "source": [
    "b = 2\n",
    "A + b"
   ]
  },
  {
   "cell_type": "markdown",
   "metadata": {},
   "source": [
    "to sum horizontally the elements of A, we can call sum on A with the argument axis = 1"
   ]
  },
  {
   "cell_type": "code",
   "execution_count": 2,
   "metadata": {},
   "outputs": [
    {
     "data": {
      "text/plain": [
       "array([1.04932287, 0.67466462, 0.95063956, 1.1514223 ])"
      ]
     },
     "execution_count": 2,
     "metadata": {},
     "output_type": "execute_result"
    }
   ],
   "source": [
    "A.sum(axis= 1)"
   ]
  },
  {
   "cell_type": "markdown",
   "metadata": {},
   "source": [
    "to sum vertically, the argument is axis =0"
   ]
  },
  {
   "cell_type": "markdown",
   "metadata": {},
   "source": [
    "We can do elementwise operations between a matrix with a vector thanks to python broadcasting.\n",
    "Let's define a vector u as the vertical sum of all columns of A and use it on A"
   ]
  },
  {
   "cell_type": "code",
   "execution_count": 3,
   "metadata": {},
   "outputs": [
    {
     "name": "stdout",
     "output_type": "stream",
     "text": [
      "[1.43910538 1.73676948 0.6501745 ]\n",
      "(3,)\n"
     ]
    }
   ],
   "source": [
    "u = A.sum(axis = 0)\n",
    "print(u)\n",
    "print(u.shape)"
   ]
  },
  {
   "cell_type": "markdown",
   "metadata": {},
   "source": [
    "For security reshape u to force its shape (1,3). Defining a vector with only one dimension, leaving the other empty such as u is defined above, can have terrible cost in debugging."
   ]
  },
  {
   "cell_type": "code",
   "execution_count": 4,
   "metadata": {},
   "outputs": [
    {
     "name": "stdout",
     "output_type": "stream",
     "text": [
      "(1, 3)\n"
     ]
    }
   ],
   "source": [
    "u = u.reshape(1,3)\n",
    "print(u.shape)"
   ]
  },
  {
   "cell_type": "markdown",
   "metadata": {},
   "source": [
    "divide A by u"
   ]
  },
  {
   "cell_type": "code",
   "execution_count": 5,
   "metadata": {},
   "outputs": [
    {
     "name": "stdout",
     "output_type": "stream",
     "text": [
      "[[0.53795012 0.12902504 0.07854692]\n",
      " [0.34215055 0.01955263 0.22811646]\n",
      " [0.03565809 0.33895879 0.47776485]\n",
      " [0.08424123 0.51246353 0.21557178]]\n"
     ]
    }
   ],
   "source": [
    "div = A/u\n",
    "print(div)"
   ]
  },
  {
   "cell_type": "code",
   "execution_count": 6,
   "metadata": {},
   "outputs": [
    {
     "ename": "SyntaxError",
     "evalue": "invalid syntax (<ipython-input-6-f6b004d5259a>, line 1)",
     "output_type": "error",
     "traceback": [
      "\u001b[1;36m  File \u001b[1;32m\"<ipython-input-6-f6b004d5259a>\"\u001b[1;36m, line \u001b[1;32m1\u001b[0m\n\u001b[1;33m    We have broadcasted vector u on each element of A\u001b[0m\n\u001b[1;37m          ^\u001b[0m\n\u001b[1;31mSyntaxError\u001b[0m\u001b[1;31m:\u001b[0m invalid syntax\n"
     ]
    }
   ],
   "source": [
    "We have broadcasted vector u on each element of A"
   ]
  },
  {
   "cell_type": "markdown",
   "metadata": {},
   "source": [
    "Exercise:\n",
    "compute, for each values of A, its percentage in regard of the total column sum of A and store it in a object w"
   ]
  },
  {
   "cell_type": "code",
   "execution_count": null,
   "metadata": {
    "collapsed": true
   },
   "outputs": [],
   "source": []
  },
  {
   "cell_type": "markdown",
   "metadata": {
    "collapsed": true
   },
   "source": [
    "Lets define two matrix with different dimensions, (3, 1) and (1, 5)"
   ]
  },
  {
   "cell_type": "code",
   "execution_count": 7,
   "metadata": {},
   "outputs": [
    {
     "name": "stdout",
     "output_type": "stream",
     "text": [
      "[[1]\n",
      " [2]\n",
      " [3]]\n"
     ]
    }
   ],
   "source": [
    "col = np.arange(1, 4).reshape((3, 1))\n",
    "print(col)"
   ]
  },
  {
   "cell_type": "code",
   "execution_count": 8,
   "metadata": {},
   "outputs": [
    {
     "name": "stdout",
     "output_type": "stream",
     "text": [
      "[100 200 300 400 500]\n"
     ]
    }
   ],
   "source": [
    "line = 100 * np.arange(1, 6)\n",
    "print(line)"
   ]
  },
  {
   "cell_type": "markdown",
   "metadata": {},
   "source": [
    "Add the two matrix col and line thanks to broadcasting"
   ]
  },
  {
   "cell_type": "code",
   "execution_count": 9,
   "metadata": {},
   "outputs": [
    {
     "name": "stdout",
     "output_type": "stream",
     "text": [
      "[[101 201 301 401 501]\n",
      " [102 202 302 402 502]\n",
      " [103 203 303 403 503]]\n"
     ]
    }
   ],
   "source": [
    "m = col + line\n",
    "print(m)"
   ]
  },
  {
   "cell_type": "markdown",
   "metadata": {},
   "source": [
    "Broacasting base rules  \n",
    "We can broadcast A and B when there is a dimension C which 'spreads' both these of A and B  \n",
    "So we can only broadcast from 1 to n.  \n",
    "If there is a dimension p> 1 dividing n,  we cannot broadcast from p to n."
   ]
  },
  {
   "cell_type": "markdown",
   "metadata": {},
   "source": [
    "Define  \n",
    "\n",
    "A with dimensions  15 x 3 x 5  \n",
    "B with dimensions  15 x 1 x 5  \n",
    "verify A+B has dimensions 15 x 3 x 5  \n",
    "\n",
    "Try also for \n",
    "\n",
    "B is dimensions 3 x 5  \n",
    "B is dimensions 3 x 1  \n",
    "B is dimensions 1  "
   ]
  },
  {
   "cell_type": "code",
   "execution_count": 10,
   "metadata": {
    "collapsed": true
   },
   "outputs": [],
   "source": [
    "A = np.random.rand(15,3,5)\n",
    "B = np.random.rand(15,1,5)"
   ]
  },
  {
   "cell_type": "code",
   "execution_count": 11,
   "metadata": {
    "collapsed": true
   },
   "outputs": [],
   "source": [
    "C = A+B"
   ]
  },
  {
   "cell_type": "code",
   "execution_count": 12,
   "metadata": {},
   "outputs": [
    {
     "data": {
      "text/plain": [
       "(15, 3, 5)"
      ]
     },
     "execution_count": 12,
     "metadata": {},
     "output_type": "execute_result"
    }
   ],
   "source": [
    "C.shape"
   ]
  },
  {
   "cell_type": "markdown",
   "metadata": {},
   "source": [
    "Define A nd B with following dimensions and check if you can broadcast\n",
    "\n",
    "A      2 x 1\n",
    "B  8 x 4 x 3"
   ]
  }
 ],
 "metadata": {
  "kernelspec": {
   "display_name": "Python 3",
   "language": "python",
   "name": "python3"
  },
  "language_info": {
   "codemirror_mode": {
    "name": "ipython",
    "version": 3
   },
   "file_extension": ".py",
   "mimetype": "text/x-python",
   "name": "python",
   "nbconvert_exporter": "python",
   "pygments_lexer": "ipython3",
   "version": "3.6.3"
  }
 },
 "nbformat": 4,
 "nbformat_minor": 2
}
