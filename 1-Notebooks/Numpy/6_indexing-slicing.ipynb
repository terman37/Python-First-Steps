{
 "cells": [
  {
   "cell_type": "markdown",
   "metadata": {},
   "source": [
    "<style>div.title-slide {    width: 100%;    display: flex;    flex-direction: row;            /* default value; can be omitted */    flex-wrap: nowrap;              /* default value; can be omitted */    justify-content: space-between;}</style><div class=\"title-slide\">\n",
    "<span style=\"float:left;\">Licence CC BY-NC-ND</span>\n",
    "<span>Thierry Parmentelat &amp; Arnaud Legout</span>\n",
    "<span><img src=\"media/both-logos-small-alpha.png\" style=\"display:inline\" /></span>\n",
    "</div>"
   ]
  },
  {
   "cell_type": "markdown",
   "metadata": {},
   "source": [
    "# Index and slicing"
   ]
  },
  {
   "cell_type": "code",
   "execution_count": 3,
   "metadata": {
    "collapsed": true,
    "run_control": {
     "frozen": false,
     "read_only": false
    },
    "slideshow": {
     "slide_type": "-"
    }
   },
   "outputs": [],
   "source": [
    "import numpy as np\n",
    "import matplotlib.pyplot as plt\n",
    "%matplotlib inline\n",
    "plt.ion()"
   ]
  },
  {
   "cell_type": "markdown",
   "metadata": {},
   "source": [
    "### Indexation with ints and tuples"
   ]
  },
  {
   "cell_type": "code",
   "execution_count": 4,
   "metadata": {
    "collapsed": true,
    "run_control": {
     "frozen": false,
     "read_only": false
    }
   },
   "outputs": [],
   "source": [
    "# this function creates a table\n",
    "# tab[i, j] = i + 10 * j\n",
    "def background(n):\n",
    "    i = np.arange(n)\n",
    "    j = i.reshape((n, 1))\n",
    "    return i + 10 * j"
   ]
  },
  {
   "cell_type": "code",
   "execution_count": 5,
   "metadata": {
    "run_control": {
     "frozen": false,
     "read_only": false
    }
   },
   "outputs": [
    {
     "name": "stdout",
     "output_type": "stream",
     "text": [
      "[[ 0  1  2  3  4]\n",
      " [10 11 12 13 14]\n",
      " [20 21 22 23 24]\n",
      " [30 31 32 33 34]\n",
      " [40 41 42 43 44]]\n"
     ]
    }
   ],
   "source": [
    "a5 = background(5)\n",
    "print(a5)"
   ]
  },
  {
   "cell_type": "markdown",
   "metadata": {
    "run_control": {
     "frozen": false,
     "read_only": false
    }
   },
   "source": [
    "With one index we get a line"
   ]
  },
  {
   "cell_type": "code",
   "execution_count": 6,
   "metadata": {
    "run_control": {
     "frozen": false,
     "read_only": false
    }
   },
   "outputs": [
    {
     "data": {
      "text/plain": [
       "array([10, 11, 12, 13, 14])"
      ]
     },
     "execution_count": 6,
     "metadata": {},
     "output_type": "execute_result"
    }
   ],
   "source": [
    "a5[1]"
   ]
  },
  {
   "cell_type": "code",
   "execution_count": 7,
   "metadata": {
    "run_control": {
     "frozen": false,
     "read_only": false
    }
   },
   "outputs": [
    {
     "data": {
      "text/plain": [
       "12"
      ]
     },
     "execution_count": 7,
     "metadata": {},
     "output_type": "execute_result"
    }
   ],
   "source": [
    "# with 2 indexes\n",
    "a5[1][2]"
   ]
  },
  {
   "cell_type": "code",
   "execution_count": 8,
   "metadata": {
    "run_control": {
     "frozen": false,
     "read_only": false
    }
   },
   "outputs": [
    {
     "data": {
      "text/plain": [
       "12"
      ]
     },
     "execution_count": 8,
     "metadata": {},
     "output_type": "execute_result"
    }
   ],
   "source": [
    "# or we can index from a tuple\n",
    "a5[1, 2]"
   ]
  },
  {
   "cell_type": "code",
   "execution_count": 9,
   "metadata": {
    "run_control": {
     "frozen": false,
     "read_only": false
    },
    "slideshow": {
     "slide_type": "slide"
    }
   },
   "outputs": [
    {
     "name": "stdout",
     "output_type": "stream",
     "text": [
      "[[  0   1   2   3   4]\n",
      " [ 10  11  12  13  14]\n",
      " [ 20 221  22  23  24]\n",
      " [ 30  31 332  33  34]\n",
      " [ 40  41  42  43  44]]\n"
     ]
    }
   ],
   "source": [
    "# we can affect a cell of an array individually\n",
    "a5[2][1] = 221\n",
    "a5[3, 2] += 300\n",
    "print(a5)"
   ]
  },
  {
   "cell_type": "code",
   "execution_count": 10,
   "metadata": {
    "run_control": {
     "frozen": false,
     "read_only": false
    }
   },
   "outputs": [
    {
     "name": "stdout",
     "output_type": "stream",
     "text": [
      "[[  0   1   2   3   4]\n",
      " [100 101 102 103 104]\n",
      " [ 20 221  22  23  24]\n",
      " [ 30  31 332  33  34]\n",
      " [ 40  41  42  43  44]]\n"
     ]
    }
   ],
   "source": [
    "# or a whole line\n",
    "a5[1] = np.arange(100, 105)\n",
    "print(a5)"
   ]
  },
  {
   "cell_type": "code",
   "execution_count": 11,
   "metadata": {},
   "outputs": [
    {
     "name": "stdout",
     "output_type": "stream",
     "text": [
      "[[  0   1   2   3   4]\n",
      " [100 101 102 103 104]\n",
      " [ 20 221  22  23  24]\n",
      " [ 30  31 332  33  34]\n",
      " [400 400 400 400 400]]\n"
     ]
    }
   ],
   "source": [
    "# as previsously sene we can affect with boradcasting\n",
    "a5[4] = 400\n",
    "print(a5)"
   ]
  },
  {
   "cell_type": "markdown",
   "metadata": {
    "run_control": {
     "frozen": false,
     "read_only": false
    },
    "slideshow": {
     "slide_type": "slide"
    }
   },
   "source": [
    "# Slicing"
   ]
  },
  {
   "cell_type": "markdown",
   "metadata": {
    "run_control": {
     "frozen": false,
     "read_only": false
    }
   },
   "source": [
    "thanks to slicing we can affect by columns"
   ]
  },
  {
   "cell_type": "code",
   "execution_count": 12,
   "metadata": {
    "run_control": {
     "frozen": false,
     "read_only": false
    }
   },
   "outputs": [
    {
     "name": "stdout",
     "output_type": "stream",
     "text": [
      "[[ 0  1  2  3  4]\n",
      " [10 11 12 13 14]\n",
      " [20 21 22 23 24]\n",
      " [30 31 32 33 34]\n",
      " [40 41 42 43 44]]\n"
     ]
    }
   ],
   "source": [
    "a5 = background(5)\n",
    "print(a5)"
   ]
  },
  {
   "cell_type": "code",
   "execution_count": 13,
   "metadata": {
    "run_control": {
     "frozen": false,
     "read_only": false
    }
   },
   "outputs": [
    {
     "data": {
      "text/plain": [
       "array([ 3, 13, 23, 33, 43])"
      ]
     },
     "execution_count": 13,
     "metadata": {},
     "output_type": "execute_result"
    }
   ],
   "source": [
    "a5[:, 3]"
   ]
  },
  {
   "cell_type": "markdown",
   "metadata": {},
   "source": [
    "The output is a one table array, but we can modify the whole column by affecting from range"
   ]
  },
  {
   "cell_type": "code",
   "execution_count": 13,
   "metadata": {
    "run_control": {
     "frozen": false,
     "read_only": false
    }
   },
   "outputs": [
    {
     "name": "stdout",
     "output_type": "stream",
     "text": [
      "[[  0   1   2 300   4]\n",
      " [ 10  11  12 301  14]\n",
      " [ 20  21  22 302  24]\n",
      " [ 30  31  32 303  34]\n",
      " [ 40  41  42 304  44]]\n"
     ]
    }
   ],
   "source": [
    "a5[:, 3] = range(300, 305)\n",
    "print(a5)"
   ]
  },
  {
   "cell_type": "markdown",
   "metadata": {},
   "source": [
    "or by broadcast"
   ]
  },
  {
   "cell_type": "code",
   "execution_count": 14,
   "metadata": {},
   "outputs": [
    {
     "name": "stdout",
     "output_type": "stream",
     "text": [
      "[[  0   1 200 300   4]\n",
      " [ 10  11 200 301  14]\n",
      " [ 20  21 200 302  24]\n",
      " [ 30  31 200 303  34]\n",
      " [ 40  41 200 304  44]]\n"
     ]
    }
   ],
   "source": [
    "# we can affect a scalar to a whole column\n",
    "a5[:, 2] = 200\n",
    "print(a5)"
   ]
  },
  {
   "cell_type": "code",
   "execution_count": 15,
   "metadata": {},
   "outputs": [
    {
     "name": "stdout",
     "output_type": "stream",
     "text": [
      "[[  0   1 200 300 404]\n",
      " [ 10  11 200 301 414]\n",
      " [ 20  21 200 302 424]\n",
      " [ 30  31 200 303 434]\n",
      " [ 40  41 200 304 444]]\n"
     ]
    }
   ],
   "source": [
    "# or add a scalar to a column\n",
    "a5[:, 4] += 400\n",
    "print(a5)"
   ]
  },
  {
   "cell_type": "markdown",
   "metadata": {
    "run_control": {
     "frozen": false,
     "read_only": false
    }
   },
   "source": [
    "Les slices peuvent prendre une forme générale :"
   ]
  },
  {
   "cell_type": "code",
   "execution_count": 16,
   "metadata": {
    "run_control": {
     "frozen": false,
     "read_only": false
    }
   },
   "outputs": [
    {
     "name": "stdout",
     "output_type": "stream",
     "text": [
      "[[ 0  1  2  3  4  5  6  7]\n",
      " [10 11 12 13 14 15 16 17]\n",
      " [20 21 22 23 24 25 26 27]\n",
      " [30 31 32 33 34 35 36 37]\n",
      " [40 41 42 43 44 45 46 47]\n",
      " [50 51 52 53 54 55 56 57]\n",
      " [60 61 62 63 64 65 66 67]\n",
      " [70 71 72 73 74 75 76 77]]\n"
     ]
    }
   ],
   "source": [
    "a8 = background(8)\n",
    "print(a8)"
   ]
  },
  {
   "cell_type": "code",
   "execution_count": 17,
   "metadata": {
    "run_control": {
     "frozen": false,
     "read_only": false
    }
   },
   "outputs": [
    {
     "data": {
      "text/plain": [
       "array([[10, 11, 12, 13, 14, 15, 16, 17],\n",
       "       [40, 41, 42, 43, 44, 45, 46, 47],\n",
       "       [70, 71, 72, 73, 74, 75, 76, 77]])"
      ]
     },
     "execution_count": 17,
     "metadata": {},
     "output_type": "execute_result"
    }
   ],
   "source": [
    "# all the lines in rows 1, 4, 7\n",
    "a8[1::3]"
   ]
  },
  {
   "cell_type": "code",
   "execution_count": 18,
   "metadata": {},
   "outputs": [
    {
     "data": {
      "text/plain": [
       "array([[ 1,  5],\n",
       "       [11, 15],\n",
       "       [21, 25],\n",
       "       [31, 35],\n",
       "       [41, 45],\n",
       "       [51, 55],\n",
       "       [61, 65],\n",
       "       [71, 75]])"
      ]
     },
     "execution_count": 18,
     "metadata": {},
     "output_type": "execute_result"
    }
   ],
   "source": [
    "# columns 1, 5\n",
    "a8[:, 1::4]"
   ]
  },
  {
   "cell_type": "code",
   "execution_count": 19,
   "metadata": {
    "run_control": {
     "frozen": false,
     "read_only": false
    }
   },
   "outputs": [
    {
     "name": "stdout",
     "output_type": "stream",
     "text": [
      "[[ 0  0  2  3  4  0  6  7]\n",
      " [10  0 12 13 14  0 16 17]\n",
      " [20  0 22 23 24  0 26 27]\n",
      " [30  0 32 33 34  0 36 37]\n",
      " [40  0 42 43 44  0 46 47]\n",
      " [50  0 52 53 54  0 56 57]\n",
      " [60  0 62 63 64  0 66 67]\n",
      " [70  0 72 73 74  0 76 77]]\n"
     ]
    }
   ],
   "source": [
    "# and we can modify them\n",
    "a8[:, 1::4] = 0\n",
    "print(a8)"
   ]
  },
  {
   "cell_type": "markdown",
   "metadata": {
    "run_control": {
     "frozen": false,
     "read_only": false
    },
    "slideshow": {
     "slide_type": "slide"
    }
   },
   "source": [
    "so slicing can help us to extract blocks :"
   ]
  },
  {
   "cell_type": "code",
   "execution_count": 21,
   "metadata": {
    "run_control": {
     "frozen": false,
     "read_only": false
    }
   },
   "outputs": [
    {
     "name": "stdout",
     "output_type": "stream",
     "text": [
      "[[52 53 54]\n",
      " [62 63 64]\n",
      " [72 73 74]]\n"
     ]
    }
   ],
   "source": [
    "print(a8[5:8, 2:5])"
   ]
  },
  {
   "cell_type": "markdown",
   "metadata": {},
   "source": [
    "### `newaxis`"
   ]
  },
  {
   "cell_type": "markdown",
   "metadata": {},
   "source": [
    "We can use `np.newaxis` with a slice to  shift the dimensions"
   ]
  },
  {
   "cell_type": "code",
   "execution_count": 22,
   "metadata": {
    "run_control": {
     "frozen": false,
     "read_only": false
    },
    "slideshow": {
     "slide_type": "slide"
    }
   },
   "outputs": [
    {
     "name": "stdout",
     "output_type": "stream",
     "text": [
      "[1 2 3 4 5 6]\n"
     ]
    }
   ],
   "source": [
    "X = np.arange(1, 7)\n",
    "print(X)"
   ]
  },
  {
   "cell_type": "code",
   "execution_count": 23,
   "metadata": {},
   "outputs": [
    {
     "data": {
      "text/plain": [
       "(6,)"
      ]
     },
     "execution_count": 23,
     "metadata": {},
     "output_type": "execute_result"
    }
   ],
   "source": [
    "X.shape"
   ]
  },
  {
   "cell_type": "code",
   "execution_count": 24,
   "metadata": {},
   "outputs": [
    {
     "name": "stdout",
     "output_type": "stream",
     "text": [
      "[[1]\n",
      " [2]\n",
      " [3]\n",
      " [4]\n",
      " [5]\n",
      " [6]]\n"
     ]
    }
   ],
   "source": [
    "Y = X[:, np.newaxis]\n",
    "print(Y)"
   ]
  },
  {
   "cell_type": "code",
   "execution_count": 25,
   "metadata": {},
   "outputs": [
    {
     "data": {
      "text/plain": [
       "(6, 1)"
      ]
     },
     "execution_count": 25,
     "metadata": {},
     "output_type": "execute_result"
    }
   ],
   "source": [
    "Y.shape"
   ]
  },
  {
   "cell_type": "code",
   "execution_count": 26,
   "metadata": {},
   "outputs": [
    {
     "data": {
      "text/plain": [
       "array([[[1]],\n",
       "\n",
       "       [[2]],\n",
       "\n",
       "       [[3]],\n",
       "\n",
       "       [[4]],\n",
       "\n",
       "       [[5]],\n",
       "\n",
       "       [[6]]])"
      ]
     },
     "execution_count": 26,
     "metadata": {},
     "output_type": "execute_result"
    }
   ],
   "source": [
    "Z = Y[:, np.newaxis]\n",
    "Z"
   ]
  },
  {
   "cell_type": "code",
   "execution_count": 27,
   "metadata": {},
   "outputs": [
    {
     "data": {
      "text/plain": [
       "(6, 1, 1)"
      ]
     },
     "execution_count": 27,
     "metadata": {},
     "output_type": "execute_result"
    }
   ],
   "source": [
    "Z.shape"
   ]
  },
  {
   "cell_type": "markdown",
   "metadata": {},
   "source": [
    "Combining slicing to create X et Y, broadcasting to create their sum, we can create the table of all possible outcomes of 2 dices"
   ]
  },
  {
   "cell_type": "code",
   "execution_count": 28,
   "metadata": {},
   "outputs": [
    {
     "name": "stdout",
     "output_type": "stream",
     "text": [
      "[[ 2  3  4  5  6  7]\n",
      " [ 3  4  5  6  7  8]\n",
      " [ 4  5  6  7  8  9]\n",
      " [ 5  6  7  8  9 10]\n",
      " [ 6  7  8  9 10 11]\n",
      " [ 7  8  9 10 11 12]]\n"
     ]
    }
   ],
   "source": [
    "dice2 = X + Y\n",
    "print(dice2)"
   ]
  },
  {
   "cell_type": "markdown",
   "metadata": {},
   "source": [
    "Or all the outcomes of 6 dices :"
   ]
  },
  {
   "cell_type": "code",
   "execution_count": 29,
   "metadata": {},
   "outputs": [
    {
     "name": "stdout",
     "output_type": "stream",
     "text": [
      "[[[ 3  4  5  6  7  8]\n",
      "  [ 4  5  6  7  8  9]\n",
      "  [ 5  6  7  8  9 10]\n",
      "  [ 6  7  8  9 10 11]\n",
      "  [ 7  8  9 10 11 12]\n",
      "  [ 8  9 10 11 12 13]]\n",
      "\n",
      " [[ 4  5  6  7  8  9]\n",
      "  [ 5  6  7  8  9 10]\n",
      "  [ 6  7  8  9 10 11]\n",
      "  [ 7  8  9 10 11 12]\n",
      "  [ 8  9 10 11 12 13]\n",
      "  [ 9 10 11 12 13 14]]\n",
      "\n",
      " [[ 5  6  7  8  9 10]\n",
      "  [ 6  7  8  9 10 11]\n",
      "  [ 7  8  9 10 11 12]\n",
      "  [ 8  9 10 11 12 13]\n",
      "  [ 9 10 11 12 13 14]\n",
      "  [10 11 12 13 14 15]]\n",
      "\n",
      " [[ 6  7  8  9 10 11]\n",
      "  [ 7  8  9 10 11 12]\n",
      "  [ 8  9 10 11 12 13]\n",
      "  [ 9 10 11 12 13 14]\n",
      "  [10 11 12 13 14 15]\n",
      "  [11 12 13 14 15 16]]\n",
      "\n",
      " [[ 7  8  9 10 11 12]\n",
      "  [ 8  9 10 11 12 13]\n",
      "  [ 9 10 11 12 13 14]\n",
      "  [10 11 12 13 14 15]\n",
      "  [11 12 13 14 15 16]\n",
      "  [12 13 14 15 16 17]]\n",
      "\n",
      " [[ 8  9 10 11 12 13]\n",
      "  [ 9 10 11 12 13 14]\n",
      "  [10 11 12 13 14 15]\n",
      "  [11 12 13 14 15 16]\n",
      "  [12 13 14 15 16 17]\n",
      "  [13 14 15 16 17 18]]]\n"
     ]
    }
   ],
   "source": [
    "dice3 = X + Y + Z\n",
    "print(dice3)"
   ]
  },
  {
   "cell_type": "markdown",
   "metadata": {},
   "source": [
    "For the record, with `np.unique`, we can compute the number of occurences in the table, so compute all the probablilities of outcomes for numbers between 3 and 18 :"
   ]
  },
  {
   "cell_type": "code",
   "execution_count": 30,
   "metadata": {},
   "outputs": [
    {
     "data": {
      "text/plain": [
       "(array([ 3,  4,  5,  6,  7,  8,  9, 10, 11, 12, 13, 14, 15, 16, 17, 18]),\n",
       " array([ 1,  3,  6, 10, 15, 21, 25, 27, 27, 25, 21, 15, 10,  6,  3,  1], dtype=int64))"
      ]
     },
     "execution_count": 30,
     "metadata": {},
     "output_type": "execute_result"
    }
   ],
   "source": [
    "np.unique(dice3, return_counts=True)"
   ]
  },
  {
   "cell_type": "markdown",
   "metadata": {},
   "source": [
    "### Differences from lists"
   ]
  },
  {
   "cell_type": "markdown",
   "metadata": {},
   "source": [
    "Indexing and slicing over np.arrays create views over blocks of an array, they can be twisted and their dimensions can be reaffected."
   ]
  },
  {
   "cell_type": "markdown",
   "metadata": {},
   "source": [
    "Differences betweenn `numpy` arrays and lists, regarding indexing and slicing"
   ]
  },
  {
   "cell_type": "markdown",
   "metadata": {},
   "source": [
    "#### slicing cannot change the size of an array\n",
    "\n",
    "The size of a  `numpy` object is constant, so its size cannot be changed, on the contrary of lists which can be modified with slicing"
   ]
  },
  {
   "cell_type": "markdown",
   "metadata": {},
   "source": [
    "##### Lists"
   ]
  },
  {
   "cell_type": "code",
   "execution_count": 32,
   "metadata": {
    "cell_style": "center"
   },
   "outputs": [
    {
     "data": {
      "text/plain": [
       "[0, 100, 102, 102, 2]"
      ]
     },
     "execution_count": 32,
     "metadata": {},
     "output_type": "execute_result"
    }
   ],
   "source": [
    "# possible\n",
    "liste = [0, 1, 2]\n",
    "liste[1:2] = [100, 102, 102]\n",
    "liste"
   ]
  },
  {
   "cell_type": "markdown",
   "metadata": {},
   "source": [
    "##### np.arrays"
   ]
  },
  {
   "cell_type": "code",
   "execution_count": 33,
   "metadata": {
    "cell_style": "center"
   },
   "outputs": [
    {
     "name": "stdout",
     "output_type": "stream",
     "text": [
      "OOPS, <class 'ValueError'>, could not broadcast input array from shape (3) into shape (1)\n"
     ]
    }
   ],
   "source": [
    "# not possible\n",
    "array = np.array([0, 1, 2])\n",
    "try:\n",
    "    array[1:2] = np.array([100, 102, 102])\n",
    "except Exception as e:\n",
    "    print(f\"OOPS, {type(e)}, {e}\")"
   ]
  },
  {
   "cell_type": "markdown",
   "metadata": {},
   "source": [
    "##### we can modify an array by modifying the slice\n",
    "\n",
    "A slice on a np object is a view over an extract of the array, changing the view we affect the table. Which is not what happens on lists."
   ]
  },
  {
   "cell_type": "markdown",
   "metadata": {},
   "source": [
    "##### Lists"
   ]
  },
  {
   "cell_type": "code",
   "execution_count": 33,
   "metadata": {},
   "outputs": [
    {
     "data": {
      "text/plain": [
       "[1]"
      ]
     },
     "execution_count": 33,
     "metadata": {},
     "output_type": "execute_result"
    }
   ],
   "source": [
    "# une slice of a list is a shallow copy\n",
    "liste = [0, 1, 2]\n",
    "liste[1:2]"
   ]
  },
  {
   "cell_type": "code",
   "execution_count": 34,
   "metadata": {},
   "outputs": [
    {
     "data": {
      "text/plain": [
       "[0, 100, 102, 102, 2]"
      ]
     },
     "execution_count": 34,
     "metadata": {},
     "output_type": "execute_result"
    }
   ],
   "source": [
    "# so modifying the slice we do not affect the list\n",
    "liste[1:2][0] = 999999\n",
    "liste"
   ]
  },
  {
   "cell_type": "markdown",
   "metadata": {},
   "source": [
    "##### np.arrays"
   ]
  },
  {
   "cell_type": "code",
   "execution_count": 35,
   "metadata": {},
   "outputs": [
    {
     "data": {
      "text/plain": [
       "array([1])"
      ]
     },
     "execution_count": 35,
     "metadata": {},
     "output_type": "execute_result"
    }
   ],
   "source": [
    "# a slice of a np.array is an extract of the array\n",
    "array = np.array([0, 1, 2])\n",
    "array[1:2]"
   ]
  },
  {
   "cell_type": "code",
   "execution_count": 36,
   "metadata": {},
   "outputs": [
    {
     "data": {
      "text/plain": [
       "array([  0, 100,   2])"
      ]
     },
     "execution_count": 36,
     "metadata": {},
     "output_type": "execute_result"
    }
   ],
   "source": [
    "#so modifying the slice we change the arrays\n",
    "array[1:2][0] = 100\n",
    "array"
   ]
  }
 ],
 "metadata": {
  "kernelspec": {
   "display_name": "Python 3",
   "language": "python",
   "name": "python3"
  },
  "language_info": {
   "codemirror_mode": {
    "name": "ipython",
    "version": 3
   },
   "file_extension": ".py",
   "mimetype": "text/x-python",
   "name": "python",
   "nbconvert_exporter": "python",
   "pygments_lexer": "ipython3",
   "version": "3.6.6"
  },
  "livereveal": {
   "auto_select": "code",
   "auto_select_fragment": true,
   "autolaunch": false,
   "backimage": "media/nologo.png",
   "height": "100%",
   "start_slideshow_at": "selected",
   "theme": "simple",
   "transition": "fade",
   "width": "100%"
  },
  "notebookname": "Indexation et slices",
  "version": "3.0"
 },
 "nbformat": 4,
 "nbformat_minor": 2
}
