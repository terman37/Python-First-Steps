{
 "cells": [
  {
   "cell_type": "markdown",
   "metadata": {},
   "source": [
    "Functions : benchmark imperative / functional programming\n",
    "\n",
    "The instructions blocks are indented from 4 char to the right, and preceeded from :"
   ]
  },
  {
   "cell_type": "code",
   "execution_count": null,
   "metadata": {},
   "outputs": [],
   "source": [
    "# simple if instruction\n",
    "grade= 8\n",
    "if grade >10 :\n",
    "    print(\"pass\")\n",
    "else :\n",
    "    print(\"fail\")"
   ]
  },
  {
   "cell_type": "code",
   "execution_count": null,
   "metadata": {},
   "outputs": [],
   "source": [
    "#Factorise the code : in for loops and functions\n",
    "# Display the squares of int from 0 to 9\n",
    "\n",
    "for i in range(10):\n",
    "    print(i**2)\n",
    "    \n",
    "def squar_e(a) :\n",
    "    for i in range(10):\n",
    "        return(1**2)\n",
    "    \n",
    "b=[1, 12, 3.6, 4, 25]\n",
    "squar_e(b)\n"
   ]
  },
  {
   "cell_type": "code",
   "execution_count": null,
   "metadata": {},
   "outputs": [],
   "source": [
    "def squar_ee(a):\n",
    "    L=[]\n",
    "    for i in a:\n",
    "            L.append(i**2)\n",
    "    return(L)\n",
    "squar_ee(b)\n",
    "#the result can be affected to a variable\n",
    "b=squar_ee(b)\n",
    "b"
   ]
  },
  {
   "cell_type": "code",
   "execution_count": null,
   "metadata": {
    "collapsed": true
   },
   "outputs": [],
   "source": [
    "Exercice 1 : write the factorial function\n",
    "def fact(n):\n",
    "    \"\"\"fact(n): calcule la factorielle de n (entier >= 0)\"\"\"\n",
    "\n",
    "# Exemple d'utilisation:\n",
    "print fact(50)"
   ]
  },
  {
   "cell_type": "code",
   "execution_count": null,
   "metadata": {},
   "outputs": [],
   "source": [
    "#Exercice 2 : défine a function computing fibonacci number for a number n\n",
    "    def fibonacci(n):\n",
    "    \"returns fibonacci number for number n\"\n",
    "    # for small values of n, no computation\n",
    "\n",
    "    # or initialise f1 for n-1 and f2 for n-2\n",
    "    \n",
    "    # then iterate n-1 times to add the results\n",
    "    \n",
    "    # Fianl result is in f1\n",
    "    return f1\n",
    "fibonacci(5)"
   ]
  },
  {
   "cell_type": "markdown",
   "metadata": {},
   "source": [
    "Apply a computation to each element of a list : list comprehension"
   ]
  },
  {
   "cell_type": "code",
   "execution_count": 10,
   "metadata": {},
   "outputs": [
    {
     "data": {
      "text/plain": [
       "[0.0, 1.3862943611198906, 3.044522437723423, 1.9459101490553132]"
      ]
     },
     "execution_count": 10,
     "metadata": {},
     "output_type": "execute_result"
    }
   ],
   "source": [
    "import math\n",
    "#compute the log of a list \n",
    "a=[1,4,21,7]\n",
    "b=[]\n",
    "for i in a:\n",
    "    b.append(math.log(i))\n",
    "b"
   ]
  },
  {
   "cell_type": "code",
   "execution_count": null,
   "metadata": {
    "collapsed": true
   },
   "outputs": [],
   "source": []
  },
  {
   "cell_type": "markdown",
   "metadata": {},
   "source": [
    "to create a list comprehension, create a list, the computation to run on it, then the path of i (iterator)"
   ]
  },
  {
   "cell_type": "code",
   "execution_count": 11,
   "metadata": {},
   "outputs": [
    {
     "data": {
      "text/plain": [
       "[0.0, 1.3862943611198906, 3.044522437723423, 1.9459101490553132]"
      ]
     },
     "execution_count": 11,
     "metadata": {},
     "output_type": "execute_result"
    }
   ],
   "source": [
    "b= [math.log(i) for i in a]\n",
    "b"
   ]
  },
  {
   "cell_type": "code",
   "execution_count": 12,
   "metadata": {},
   "outputs": [
    {
     "data": {
      "text/plain": [
       "[0.0, 1.3862943611198906, 3.044522437723423, 1.9459101490553132]"
      ]
     },
     "execution_count": 12,
     "metadata": {},
     "output_type": "execute_result"
    }
   ],
   "source": [
    "a.append(-1)\n",
    "#add a test in your comprehnesion\n",
    "b= [math.log(i) for i in a if i>0 ]\n",
    "b"
   ]
  },
  {
   "cell_type": "markdown",
   "metadata": {},
   "source": [
    "comprehension is not limited to lists, it can be applied on a ny type of sequences.\n"
   ]
  },
  {
   "cell_type": "code",
   "execution_count": 13,
   "metadata": {
    "collapsed": true
   },
   "outputs": [],
   "source": [
    "#Exercice : debug\n",
    "entry = [1, 2, 3, 4, 5, 6, 7, 8, 9]\n"
   ]
  },
  {
   "cell_type": "code",
   "execution_count": 14,
   "metadata": {},
   "outputs": [
    {
     "ename": "SyntaxError",
     "evalue": "invalid syntax (<ipython-input-14-1ba08fa7d173>, line 1)",
     "output_type": "error",
     "traceback": [
      "\u001b[1;36m  File \u001b[1;32m\"<ipython-input-14-1ba08fa7d173>\"\u001b[1;36m, line \u001b[1;32m1\u001b[0m\n\u001b[1;33m    squar_E = [for x in entry: x**2]\u001b[0m\n\u001b[1;37m                 ^\u001b[0m\n\u001b[1;31mSyntaxError\u001b[0m\u001b[1;31m:\u001b[0m invalid syntax\n"
     ]
    }
   ],
   "source": [
    "squar_E = [for x in entry: x**2]"
   ]
  },
  {
   "cell_type": "code",
   "execution_count": null,
   "metadata": {
    "collapsed": true
   },
   "outputs": [],
   "source": []
  },
  {
   "cell_type": "code",
   "execution_count": null,
   "metadata": {},
   "outputs": [],
   "source": []
  },
  {
   "cell_type": "markdown",
   "metadata": {},
   "source": [
    "Given a polynomial function:\n",
    "\n",
    "P(x) = 2x**2 - 3x - 2\n",
    "\n",
    "Write the function list_P, taking in x values and returning P(x)\n",
    "Example of expected results:\n",
    "\n",
    "liste_P([0, 1, 2, 3, 4])\t[-2, -3, 0, 7, 18]\n"
   ]
  },
  {
   "cell_type": "code",
   "execution_count": null,
   "metadata": {},
   "outputs": [],
   "source": [
    "import random\n",
    "dir(random)\n",
    "#help(random.randint)\n"
   ]
  },
  {
   "cell_type": "code",
   "execution_count": null,
   "metadata": {},
   "outputs": [],
   "source": [
    "random.randint(1, 100)"
   ]
  },
  {
   "cell_type": "raw",
   "metadata": {},
   "source": []
  }
 ],
 "metadata": {
  "kernelspec": {
   "display_name": "Python 3",
   "language": "python",
   "name": "python3"
  },
  "language_info": {
   "codemirror_mode": {
    "name": "ipython",
    "version": 3
   },
   "file_extension": ".py",
   "mimetype": "text/x-python",
   "name": "python",
   "nbconvert_exporter": "python",
   "pygments_lexer": "ipython3",
   "version": "3.6.9"
  }
 },
 "nbformat": 4,
 "nbformat_minor": 2
}
