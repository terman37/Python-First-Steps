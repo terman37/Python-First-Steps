{
 "cells": [
  {
   "cell_type": "markdown",
   "metadata": {},
   "source": [
    "<style>div.title-slide {    width: 100%;    display: flex;    flex-direction: row;            /* default value; can be omitted */    flex-wrap: nowrap;              /* default value; can be omitted */    justify-content: space-between;}</style><div class=\"title-slide\">\n",
    "<span style=\"float:left;\">Licence CC BY-NC-ND</span>\n",
    "<span>Thierry Parmentelat &amp; Arnaud Legout</span>\n",
    "<span><img src=\"media/both-logos-small-alpha.png\" style=\"display:inline\" /></span>\n",
    "</div>"
   ]
  },
  {
   "cell_type": "markdown",
   "metadata": {},
   "source": [
    "# Different types of copy"
   ]
  },
  {
   "cell_type": "markdown",
   "metadata": {},
   "source": [
    "## Introduction"
   ]
  },
  {
   "cell_type": "markdown",
   "metadata": {},
   "source": [
    "### Two main types of copies"
   ]
  },
  {
   "cell_type": "markdown",
   "metadata": {},
   "source": [
    " * A *shallow copy* \n",
    " * A *deep copy* "
   ]
  },
  {
   "cell_type": "markdown",
   "metadata": {},
   "source": [
    "###  `copy` module"
   ]
  },
  {
   "cell_type": "markdown",
   "metadata": {},
   "source": [
    "to make a copy, the simplest method is to use the library 'copy'. It works with all types in the same manner.\n",
    "[standard module `copy`](https://docs.python.org/3/library/copy.html), see\n",
    " * `copy.copy` for shallow copy\n",
    " * `copy.deepcopy` for deep copy"
   ]
  },
  {
   "cell_type": "code",
   "execution_count": 6,
   "metadata": {},
   "outputs": [
    {
     "name": "stdout",
     "output_type": "stream",
     "text": [
      "The tutormagic extension is already loaded. To reload it, use:\n",
      "  %reload_ext tutormagic\n"
     ]
    }
   ],
   "source": [
    "%load_ext tutormagic"
   ]
  },
  {
   "cell_type": "code",
   "execution_count": 7,
   "metadata": {
    "collapsed": true
   },
   "outputs": [],
   "source": [
    "import copy\n",
    "#help(copy.copy)\n",
    "#help(copy.deepcopy)"
   ]
  },
  {
   "cell_type": "markdown",
   "metadata": {},
   "source": [
    "### Exemple"
   ]
  },
  {
   "cell_type": "markdown",
   "metadata": {},
   "source": [
    "Here is an example of the two on a same identical object. "
   ]
  },
  {
   "cell_type": "markdown",
   "metadata": {},
   "source": [
    "### *shallow  copie*  / `copy.copy` "
   ]
  },
  {
   "cell_type": "code",
   "execution_count": 8,
   "metadata": {
    "scrolled": true
   },
   "outputs": [
    {
     "data": {
      "text/html": [
       "\n",
       "        <iframe\n",
       "            width=\"100%\"\n",
       "            height=\"230\"\n",
       "            src=\"http://pythontutor.com/iframe-embed.html#code=%0Aimport%20copy%0A%23%20Instanciate%20an%20object%0Asource%20%3D%20%5B%20%0A%20%20%20%20%5B1%2C%202%2C%203%5D%2C%20%20%23%20list%0A%20%20%20%20%7B1%2C%202%2C%203%7D%2C%20%20%23%20a%20set%0A%20%20%20%20%281%2C%202%2C%203%29%2C%20%20%23%20a%20tuple%0A%20%20%20%20%27123%27%2C%20%20%20%20%20%20%20%23%20a%20string%0A%20%20%20%20123%2C%20%20%20%20%20%20%20%20%20%23%20an%20integer%0A%5D%0Aprint%28source%29%0A%23%20a%20shallow%20copy%20returns%3A%0Ashallow_copy%20%3D%20copy.copy%28source%29%0Aprint%28shallow_copy%29&origin=opt-frontend.js&cumulative=false&heapPrimitives=false&textReferences=false&curInstr=0&&verticalStack=false&py=3&rawInputLstJSON=%5B%5D&codeDivWidth=50%25&codeDivHeight=100%25\"\n",
       "            frameborder=\"0\"\n",
       "            allowfullscreen\n",
       "        ></iframe>\n",
       "        "
      ],
      "text/plain": [
       "<IPython.lib.display.IFrame at 0x21c38359358>"
      ]
     },
     "metadata": {},
     "output_type": "display_data"
    }
   ],
   "source": [
    "%%tutor --lang python3 --height=230\n",
    "\n",
    "import copy\n",
    "# Instanciate an object\n",
    "source = [ \n",
    "    [1, 2, 3],  # list\n",
    "    {1, 2, 3},  # a set\n",
    "    (1, 2, 3),  # a tuple\n",
    "    '123',       # a string\n",
    "    123,         # an integer\n",
    "]\n",
    "print(source)\n",
    "# a shallow copy returns:\n",
    "shallow_copy = copy.copy(source)\n",
    "print(shallow_copy)"
   ]
  },
  {
   "cell_type": "markdown",
   "metadata": {},
   "source": [
    "Note \n",
    "* source and copy share all their sub elements, as the list `source[0]` and the set `source[1]`;\n",
    "* after this copy, one of the two objects can be modified (list or set) and then modify the source **and** the copy. Try it."
   ]
  },
  {
   "cell_type": "markdown",
   "metadata": {},
   "source": [
    "Remember than, the source being a list, we could have done a shollow copy with\n",
    "\n",
    "```\n",
    "shallow2 = source[:]\n",
    "```"
   ]
  },
  {
   "cell_type": "markdown",
   "metadata": {},
   "source": [
    "#### *deep* copie*  / `copy.deepcopy` "
   ]
  },
  {
   "cell_type": "markdown",
   "metadata": {},
   "source": [
    "On the same source object, here is what the deep copy does:"
   ]
  },
  {
   "cell_type": "code",
   "execution_count": 9,
   "metadata": {},
   "outputs": [
    {
     "data": {
      "text/html": [
       "\n",
       "        <iframe\n",
       "            width=\"100%\"\n",
       "            height=\"350\"\n",
       "            src=\"http://pythontutor.com/iframe-embed.html#code=import%20copy%0A%23%20Instanciate%20an%20object%0Asource%20%3D%20%5B%20%0A%20%20%20%20%5B1%2C%202%2C%203%5D%2C%20%20%23%20a%20list%0A%20%20%20%20%7B1%2C%202%2C%203%7D%2C%20%20%23%20a%20set%0A%20%20%20%20%281%2C%202%2C%203%29%2C%20%20%23%20a%20tuple%0A%20%20%20%20%27123%27%2C%20%20%20%20%20%20%20%23%20a%20string%0A%20%20%20%20123%2C%20%20%20%20%20%20%20%20%20%23%20an%20integer%0A%5D%0Aprint%28source%29%0A%23%20a%20deep%20copy%20returns%20this%3A%0Adeep_copy%20%3D%20copy.deepcopy%28source%29%0Aprint%28deep_copy%29&origin=opt-frontend.js&cumulative=false&heapPrimitives=false&textReferences=false&curInstr=0&&verticalStack=false&py=3&rawInputLstJSON=%5B%5D&codeDivWidth=50%25&codeDivHeight=100%25\"\n",
       "            frameborder=\"0\"\n",
       "            allowfullscreen\n",
       "        ></iframe>\n",
       "        "
      ],
      "text/plain": [
       "<IPython.lib.display.IFrame at 0x21c38359470>"
      ]
     },
     "metadata": {},
     "output_type": "display_data"
    }
   ],
   "source": [
    "%%tutor height=410 curInstr=6\n",
    "import copy\n",
    "# Instanciate an object\n",
    "source = [ \n",
    "    [1, 2, 3],  # a list\n",
    "    {1, 2, 3},  # a set\n",
    "    (1, 2, 3),  # a tuple\n",
    "    '123',       # a string\n",
    "    123,         # an integer\n",
    "]\n",
    "print(source)\n",
    "# a deep copy returns this:\n",
    "deep_copy = copy.deepcopy(source)\n",
    "print(deep_copy)"
   ]
  },
  {
   "cell_type": "markdown",
   "metadata": {},
   "source": [
    "Note\n",
    "* the two mutable objects accessilbe from `source`, this is  **the list** `source[0]` and **the set `source[1]`**,  all have been duplicated;\n",
    "* **the tuple** correponding to `source[2]` is **not duplicated**, but as it is  **not mutable** we can not modify the copy from the source;\n",
    "* as a rule of thumb, we have a nice property which is the copy and the source are not sharing any modifyable properties.\n",
    "* then one can not be accidentely modified through the other.try it."
   ]
  },
  {
   "cell_type": "code",
   "execution_count": 10,
   "metadata": {
    "collapsed": true
   },
   "outputs": [],
   "source": [
    "# repete the preceeding code as it as been exposed to pythontutor\n",
    "import copy\n",
    "# Instanciate an object\n",
    "source = [ \n",
    "    [1, 2, 3],  # a list\n",
    "    {1, 2, 3},  # a set\n",
    "    (1, 2, 3),  # a tuple\n",
    "    '123',       # a string\n",
    "    123,         # an integer\n",
    "]\n",
    "shallow_copy = copy.copy(source)\n",
    "deep_copy = copy.deepcopy(source)"
   ]
  },
  {
   "cell_type": "markdown",
   "metadata": {},
   "source": [
    "### These objects are logically equal"
   ]
  },
  {
   "cell_type": "markdown",
   "metadata": {},
   "source": [
    "Perform a *logical comparison* with `==`"
   ]
  },
  {
   "cell_type": "code",
   "execution_count": 11,
   "metadata": {},
   "outputs": [
    {
     "name": "stdout",
     "output_type": "stream",
     "text": [
      "source == shallow_copy: True\n",
      "source == deep_copy: True\n"
     ]
    }
   ],
   "source": [
    "print('source == shallow_copy:', source == shallow_copy)\n",
    "print('source == deep_copy:', source == deep_copy)"
   ]
  },
  {
   "cell_type": "markdown",
   "metadata": {},
   "source": [
    "### Inspect the first level objects"
   ]
  },
  {
   "cell_type": "markdown",
   "metadata": {},
   "source": [
    "But if we compare the **identity**  of first level objects, we see `source` and `shallow_copy` share their objects:"
   ]
  },
  {
   "cell_type": "code",
   "execution_count": 12,
   "metadata": {},
   "outputs": [
    {
     "name": "stdout",
     "output_type": "stream",
     "text": [
      "source[0] is shallow_copy[0] -> True\n",
      "source[1] is shallow_copy[1] -> True\n",
      "source[2] is shallow_copy[2] -> True\n",
      "source[3] is shallow_copy[3] -> True\n",
      "source[4] is shallow_copy[4] -> True\n"
     ]
    }
   ],
   "source": [
    "# refer to above cell\n",
    "for i, (source_item, copy_item) in enumerate(zip(source, shallow_copy)):\n",
    "    compare = source_item is copy_item\n",
    "    print(f\"source[{i}] is shallow_copy[{i}] -> {compare}\")"
   ]
  },
  {
   "cell_type": "code",
   "execution_count": 13,
   "metadata": {},
   "outputs": [
    {
     "name": "stdout",
     "output_type": "stream",
     "text": [
      "source[0] is shallow_copy[0] -> True\n",
      "source[1] is shallow_copy[1] -> True\n",
      "source[2] is shallow_copy[2] -> True\n",
      "source[3] is shallow_copy[3] -> True\n",
      "source[4] is shallow_copy[4] -> True\n"
     ]
    }
   ],
   "source": [
    "# recall for zip and enumerate\n",
    "# the above cell is equivalent to\n",
    "for i in range(len(source)):\n",
    "    compare = source[i] is shallow_copy[i]\n",
    "    print(f\"source[{i}] is shallow_copy[{i}] -> {compare}\")"
   ]
  },
  {
   "cell_type": "markdown",
   "metadata": {},
   "source": [
    "Which is not the case for deep copy"
   ]
  },
  {
   "cell_type": "code",
   "execution_count": 14,
   "metadata": {},
   "outputs": [
    {
     "name": "stdout",
     "output_type": "stream",
     "text": [
      "source[0] is deep_copy[0] -> False\n",
      "source[1] is deep_copy[1] -> False\n",
      "source[2] is deep_copy[2] -> True\n",
      "source[3] is deep_copy[3] -> True\n",
      "source[4] is deep_copy[4] -> True\n"
     ]
    }
   ],
   "source": [
    "# see cell above\n",
    "for i, (source_item, deep_item) in enumerate(zip(source, deep_copy)):\n",
    "    compare = source_item is deep_item\n",
    "    print(f\"source[{i}] is deep_copy[{i}] -> {compare}\")"
   ]
  },
  {
   "cell_type": "markdown",
   "metadata": {},
   "source": [
    "the three last objects in source (they have immutable types) haven't been duplicated."
   ]
  },
  {
   "cell_type": "markdown",
   "metadata": {},
   "source": [
    "### What if we modify the source"
   ]
  },
  {
   "cell_type": "markdown",
   "metadata": {},
   "source": [
    "Because `deep_copy` is a copy in depth, we can modify `source` without impacting `deep_copy`."
   ]
  },
  {
   "cell_type": "markdown",
   "metadata": {},
   "source": [
    "would it be a `shallow_copy`, on the contrary, only the elements of the first level would have been copied. The, if we do a modification **on the inside** of the list which is the first child of `source`, this modification will be **reproduced** in the `shallow_copy`"
   ]
  },
  {
   "cell_type": "code",
   "execution_count": 15,
   "metadata": {},
   "outputs": [
    {
     "name": "stdout",
     "output_type": "stream",
     "text": [
      "before, source       [[1, 2, 3], {1, 2, 3}, (1, 2, 3), '123', 123]\n",
      "before, shallow_copy [[1, 2, 3], {1, 2, 3}, (1, 2, 3), '123', 123]\n",
      "after, source       [[1, 2, 3, 4], {1, 2, 3}, (1, 2, 3), '123', 123]\n",
      "after, shallow_copy [[1, 2, 3, 4], {1, 2, 3}, (1, 2, 3), '123', 123]\n"
     ]
    }
   ],
   "source": [
    "print(\"before, source      \", source)\n",
    "print(\"before, shallow_copy\", shallow_copy)\n",
    "source[0].append(4)\n",
    "print(\"after, source      \", source)\n",
    "print(\"after, shallow_copy\", shallow_copy)"
   ]
  },
  {
   "cell_type": "markdown",
   "metadata": {},
   "source": [
    "If we completely replace an element of first level in the source, it will not be replicated in the shallow copy"
   ]
  },
  {
   "cell_type": "code",
   "execution_count": 16,
   "metadata": {},
   "outputs": [
    {
     "name": "stdout",
     "output_type": "stream",
     "text": [
      "before, source       [[1, 2, 3, 4], {1, 2, 3}, (1, 2, 3), '123', 123]\n",
      "before, shallow_copy [[1, 2, 3, 4], {1, 2, 3}, (1, 2, 3), '123', 123]\n",
      "after, source       ['remplacement', {1, 2, 3}, (1, 2, 3), '123', 123]\n",
      "after, shallow_copy [[1, 2, 3, 4], {1, 2, 3}, (1, 2, 3), '123', 123]\n"
     ]
    }
   ],
   "source": [
    "print(\"before, source      \", source)\n",
    "print(\"before, shallow_copy\", shallow_copy)\n",
    "source[0] = 'remplacement'\n",
    "print(\"after, source      \", source)\n",
    "print(\"after, shallow_copy\", shallow_copy)"
   ]
  },
  {
   "cell_type": "markdown",
   "metadata": {},
   "source": [
    "### Copy and circularity"
   ]
  },
  {
   "cell_type": "markdown",
   "metadata": {},
   "source": [
    " The `copy`module can duplicate, evec deeply, objects containing circled references."
   ]
  },
  {
   "cell_type": "code",
   "execution_count": 17,
   "metadata": {},
   "outputs": [
    {
     "data": {
      "text/plain": [
       "[[...]]"
      ]
     },
     "execution_count": 17,
     "metadata": {},
     "output_type": "execute_result"
    }
   ],
   "source": [
    "l = [None] \n",
    "l[0] = l\n",
    "l"
   ]
  },
  {
   "cell_type": "code",
   "execution_count": 18,
   "metadata": {},
   "outputs": [
    {
     "data": {
      "text/plain": [
       "[[[...]]]"
      ]
     },
     "execution_count": 18,
     "metadata": {},
     "output_type": "execute_result"
    }
   ],
   "source": [
    "copy.copy(l)"
   ]
  },
  {
   "cell_type": "code",
   "execution_count": 19,
   "metadata": {},
   "outputs": [
    {
     "data": {
      "text/plain": [
       "[[...]]"
      ]
     },
     "execution_count": 19,
     "metadata": {},
     "output_type": "execute_result"
    }
   ],
   "source": [
    "copy.deepcopy(l)"
   ]
  },
  {
   "cell_type": "markdown",
   "metadata": {},
   "source": [
    "### Pour en savoir plus"
   ]
  },
  {
   "cell_type": "markdown",
   "metadata": {},
   "source": [
    "See [section on `copy` module](https://docs.python.org/3/library/copy.html) in python doc."
   ]
  }
 ],
 "metadata": {
  "kernelspec": {
   "display_name": "Python 3",
   "language": "python",
   "name": "python3"
  },
  "language_info": {
   "codemirror_mode": {
    "name": "ipython",
    "version": 3
   },
   "file_extension": ".py",
   "mimetype": "text/x-python",
   "name": "python",
   "nbconvert_exporter": "python",
   "pygments_lexer": "ipython3",
   "version": "3.6.6"
  },
  "livereveal": {
   "auto_select": "code",
   "auto_select_fragment": true,
   "autolaunch": false,
   "backimage": "media/nologo.png",
   "height": "100%",
   "slideNumber": "c",
   "start_slideshow_at": "selected",
   "theme": "simple",
   "transition": "fade",
   "width": "100%"
  },
  "notebookname": "Les différentes copies",
  "version": "3.0"
 },
 "nbformat": 4,
 "nbformat_minor": 1
}
