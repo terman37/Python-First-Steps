{
 "cells": [
  {
   "cell_type": "markdown",
   "metadata": {},
   "source": [
    "Given a function $y(t) = -by(t) + \\cfrac{cy(t-\\tau)}{1+ y^{10} (t- \\tau)}$\n",
    "defining a Mackay-Glass time serie  "
   ]
  },
  {
   "cell_type": "markdown",
   "metadata": {},
   "source": [
    "We initialise at $t_0$\n",
    "\n",
    "$b= 0.1$  \n",
    "$c = 0.2$  \n",
    "$\\tau = 17$  \n",
    "\n",
    "The 18 first values of $y$ are given by:  \n",
    "$y = [0.9697 0.9699 0.9794 1.0003 1.0319 1.0703 1.1076 1.1352 1.1485 1.1482 1.1383 1.1234 1.1072 1.0928 1.0820 1.0756 1.0739 1.0759]$  \n",
    "\n",
    "$N$ is the size of the dataset of $t$ continous times defined in seconds, so $t_0 = 1$, we define the elements of N as $\\{t_0, t_1, t_2...t_n\\} \\ \\forall \\ i \\in \\{0, 699\\}$.  \n",
    "In our case we will consider $N=700$, so the $n$ steps iterate from $0$ to $699$ in python.  \n",
    "\n",
    "Propose a recursive equation for computing $y(t)$.   \n",
    "To define the recursive equation we have to find the values of y at points in time (dicrete values of N).  \n",
    "Approximating by finite difference we find:\n",
    "\n",
    "$$y(t) = \\cfrac{dy(t)}{dt} = \\varDelta t \\approx 1$$    \n",
    "We defined $t_0$ =1 (first step of the algorithm)  \n",
    "\n",
    "Taking the approximation by finite differente of $y(t)$ we get  \n",
    "$$\\cfrac{dy(t)}{dt} = \\cfrac{y(t) - y(t-1)}{1}$$   \n",
    "Because $\\varDelta t_n = 1$ we can discretise $t$ as $$t = \\varDelta t_n*n = n$$\n",
    "\n",
    "Replacing $t$ by $n$ we get $$\\cfrac{y(n) - y(n-1)}{1}=\\cfrac{y(n + 1) - y(n)}{1}$$\n",
    "\n",
    "\n",
    "So the equation we are interested in to write the code is:  \n",
    "\n",
    "$$\\boxed{y(n + 1) = y(n) -by(n) + \\cfrac{cy(n-\\tau)}{1+ y^{10} (n- \\tau)}}$$   \n",
    "$$\\boxed{\\ which \\ is \\ only \\ defined \\ for \\ n \\geqslant 18}$$\n",
    "\n",
    "Generate the corresponding time serie\n",
    "\n"
   ]
  },
  {
   "cell_type": "markdown",
   "metadata": {},
   "source": [
    "Pseudocode this: 2 steps to our algorithm  \n",
    "\n",
    "- first step, y values are the 18 first values of the initialisation  \n",
    "- then the y values are the values of $y(n+1)$ in the recursive equation  "
   ]
  },
  {
   "cell_type": "code",
   "execution_count": 1,
   "metadata": {},
   "outputs": [
    {
     "name": "stdout",
     "output_type": "stream",
     "text": [
      "(18,)\n",
      "<class 'numpy.ndarray'>\n",
      "1.0759\n"
     ]
    }
   ],
   "source": [
    "import numpy as np\n",
    "y  = np.array([0.9697, 0.9699, 0.9794, 1.0003, 1.0319, 1.0703, 1.1076, 1.1352, 1.1485, 1.1482, 1.1383, 1.1234, 1.1072, 1.0928, 1.0820, 1.0756, 1.0739, 1.0759])\n",
    "print(y.shape)\n",
    "print(type(y))\n",
    "print(y[17])"
   ]
  },
  {
   "cell_type": "code",
   "execution_count": 2,
   "metadata": {},
   "outputs": [
    {
     "name": "stdout",
     "output_type": "stream",
     "text": [
      "1.08008153528\n",
      "[ 0.9697      0.9699      0.9794      1.0003      1.0319      1.0703\n",
      "  1.1076      1.1352      1.1485      1.1482      1.1383      1.1234\n",
      "  1.1072      1.0928      1.082       1.0756      1.0739      1.0759\n",
      "  1.08008154  1.08377027  0.          0.          0.          0.          0.\n",
      "  0.          0.          0.          0.          0.          0.          0.\n",
      "  0.          0.          0.          0.          0.          0.          0.\n",
      "  0.          0.          0.          0.          0.          0.          0.\n",
      "  0.          0.          0.          0.          0.          0.          0.\n",
      "  0.          0.          0.          0.          0.          0.          0.\n",
      "  0.          0.          0.          0.          0.          0.          0.\n",
      "  0.          0.          0.          0.          0.          0.          0.\n",
      "  0.          0.          0.          0.          0.          0.          0.\n",
      "  0.          0.          0.          0.          0.          0.          0.\n",
      "  0.          0.          0.          0.          0.          0.          0.\n",
      "  0.          0.          0.          0.          0.          0.          0.\n",
      "  0.          0.          0.          0.          0.          0.          0.\n",
      "  0.          0.          0.          0.          0.          0.          0.\n",
      "  0.          0.          0.          0.          0.          0.          0.\n",
      "  0.          0.          0.          0.          0.          0.          0.\n",
      "  0.          0.          0.          0.          0.          0.          0.\n",
      "  0.          0.          0.          0.          0.          0.          0.\n",
      "  0.          0.          0.          0.          0.          0.          0.\n",
      "  0.          0.          0.          0.          0.          0.          0.\n",
      "  0.          0.          0.          0.          0.          0.          0.\n",
      "  0.          0.          0.          0.          0.          0.          0.\n",
      "  0.          0.          0.          0.          0.          0.          0.\n",
      "  0.          0.          0.          0.          0.          0.          0.\n",
      "  0.          0.          0.          0.          0.          0.          0.\n",
      "  0.          0.          0.          0.          0.          0.          0.\n",
      "  0.          0.          0.          0.          0.          0.          0.\n",
      "  0.          0.          0.          0.          0.          0.          0.\n",
      "  0.          0.          0.          0.          0.          0.          0.\n",
      "  0.          0.          0.          0.          0.          0.          0.\n",
      "  0.          0.          0.          0.          0.          0.          0.\n",
      "  0.          0.          0.          0.          0.          0.          0.\n",
      "  0.          0.          0.          0.          0.          0.          0.\n",
      "  0.          0.          0.          0.          0.          0.          0.\n",
      "  0.          0.          0.          0.          0.          0.          0.\n",
      "  0.          0.          0.          0.          0.          0.          0.\n",
      "  0.          0.          0.          0.          0.          0.          0.\n",
      "  0.          0.          0.          0.          0.          0.          0.\n",
      "  0.          0.          0.          0.          0.          0.          0.\n",
      "  0.          0.          0.          0.          0.          0.          0.\n",
      "  0.          0.          0.          0.          0.          0.          0.\n",
      "  0.          0.          0.          0.          0.          0.          0.\n",
      "  0.          0.          0.          0.          0.          0.          0.\n",
      "  0.          0.          0.          0.          0.          0.          0.\n",
      "  0.          0.          0.          0.          0.          0.          0.\n",
      "  0.          0.          0.          0.          0.          0.          0.\n",
      "  0.          0.          0.          0.          0.          0.          0.\n",
      "  0.          0.          0.          0.          0.          0.          0.\n",
      "  0.          0.          0.          0.          0.          0.          0.\n",
      "  0.          0.          0.          0.          0.          0.          0.\n",
      "  0.          0.          0.          0.          0.          0.          0.\n",
      "  0.          0.          0.          0.          0.          0.          0.\n",
      "  0.          0.          0.          0.          0.          0.          0.\n",
      "  0.          0.          0.          0.          0.          0.          0.\n",
      "  0.          0.          0.          0.          0.          0.          0.\n",
      "  0.          0.          0.          0.          0.          0.          0.\n",
      "  0.          0.          0.          0.          0.          0.          0.\n",
      "  0.          0.          0.          0.          0.          0.          0.\n",
      "  0.          0.          0.          0.          0.          0.          0.\n",
      "  0.          0.          0.          0.          0.          0.          0.\n",
      "  0.          0.          0.          0.          0.          0.          0.\n",
      "  0.          0.          0.          0.          0.          0.          0.\n",
      "  0.          0.          0.          0.          0.          0.          0.\n",
      "  0.          0.          0.          0.          0.          0.          0.\n",
      "  0.          0.          0.          0.          0.          0.          0.\n",
      "  0.          0.          0.          0.          0.          0.          0.\n",
      "  0.          0.          0.          0.          0.          0.          0.\n",
      "  0.          0.          0.          0.          0.          0.          0.\n",
      "  0.          0.          0.          0.          0.          0.          0.\n",
      "  0.          0.          0.          0.          0.          0.          0.\n",
      "  0.          0.          0.          0.          0.          0.          0.\n",
      "  0.          0.          0.          0.          0.          0.          0.\n",
      "  0.          0.          0.          0.          0.          0.          0.\n",
      "  0.          0.          0.          0.          0.          0.          0.\n",
      "  0.          0.          0.          0.          0.          0.          0.\n",
      "  0.          0.          0.          0.          0.          0.          0.\n",
      "  0.          0.          0.          0.          0.          0.          0.\n",
      "  0.          0.          0.          0.          0.          0.          0.\n",
      "  0.          0.          0.          0.          0.          0.          0.\n",
      "  0.          0.          0.          0.          0.          0.          0.\n",
      "  0.          0.          0.          0.          0.          0.          0.\n",
      "  0.          0.          0.          0.          0.          0.          0.\n",
      "  0.          0.          0.          0.          0.          0.          0.\n",
      "  0.          0.          0.          0.          0.          0.          0.\n",
      "  0.          0.          0.          0.          0.          0.          0.\n",
      "  0.          0.          0.          0.          0.          0.          0.\n",
      "  0.          0.          0.          0.          0.          0.          0.\n",
      "  0.          0.          0.          0.          0.          0.          0.\n",
      "  0.          0.          0.          0.          0.          0.          0.\n",
      "  0.          0.          0.          0.          0.          0.          0.\n",
      "  0.          0.          0.          0.          0.          0.          0.\n",
      "  0.          0.          0.          0.          0.          0.          0.\n",
      "  0.          0.          0.          0.          0.          0.          0.\n",
      "  0.          0.          0.          0.          0.          0.          0.\n",
      "  0.          0.          0.          0.          0.          0.          0.\n",
      "  0.          0.          0.          0.          0.          0.          0.\n",
      "  0.          0.          0.          0.          0.          0.          0.\n",
      "  0.          0.          0.        ]\n"
     ]
    }
   ],
   "source": [
    "#we define the constants in our equation\n",
    "b = 0.1\n",
    "c = 0.2\n",
    "tau = 17\n",
    "    \n",
    "#then we define the next value z for the y sequence: z = y+1\n",
    "#for instance the next value of the time serie after initialisation vector will be z=\n",
    "n = 17\n",
    "z = y[n] - b*y[n] + (c*y[n-tau]/(1 + (y[n-tau]**10)))\n",
    "print(z)\n",
    "\n",
    "#in our function we will have something doing this:\n",
    "u =np.zeros(682)\n",
    "y =np.concatenate((y, u), axis =0)\n",
    "\n",
    "#and something doing this for each index of y:\n",
    "y[18] = y[17]-b*y[17] + (c*y[17-tau]/(1+(y[17-tau]**10)))\n",
    "\n",
    "y[19] = y[18]-b*y[18] + (c*y[18-tau]/(1+(y[18-tau]**10)))\n",
    "\n",
    "print(y)\n",
    "#print(z)\n",
    "\n",
    "#in python we can do both in the same time with the .append method.\n",
    "#then instead of iterating on each index of why, we just append the result in a single object\n"
   ]
  },
  {
   "cell_type": "code",
   "execution_count": 3,
   "metadata": {},
   "outputs": [
    {
     "data": {
      "image/png": "[encoded data removed]",
      "text/plain": [
       "<Figure size 432x288 with 1 Axes>"
      ]
     },
     "metadata": {},
     "output_type": "display_data"
    }
   ],
   "source": [
    "import matplotlib.pyplot as plt\n",
    "\n",
    "plt.plot(range(700), y)\n",
    "plt.show()"
   ]
  },
  {
   "cell_type": "markdown",
   "metadata": {},
   "source": [
    "Expected results:\n",
    "<img src=\"MackayTS.png\" style=\"width:500px;height:300;\">\n"
   ]
  },
  {
   "cell_type": "code",
   "execution_count": null,
   "metadata": {
    "collapsed": true
   },
   "outputs": [],
   "source": [
    "del n, u, z, y"
   ]
  },
  {
   "cell_type": "markdown",
   "metadata": {},
   "source": [
    "An example of how to vectorise.  \n",
    "Let's say we have a function which is recursively defined as:  \n",
    "$x[i+1] = x[i]+i$"
   ]
  },
  {
   "cell_type": "code",
   "execution_count": 4,
   "metadata": {},
   "outputs": [
    {
     "name": "stdout",
     "output_type": "stream",
     "text": [
      "7\n",
      "[1, 1, 2, 4, 7, 11, 16, 22, 29]\n",
      "1\n"
     ]
    }
   ],
   "source": [
    "# simulate an input vector x,\n",
    "x = [1,2,3,4,5,6,7,8,9]\n",
    "\n",
    "#now we want\n",
    "for i in range(8):\n",
    "    x[i+1] = x[i]+i\n",
    "print(i)\n",
    "print(x)\n",
    "print(x[0])"
   ]
  },
  {
   "cell_type": "code",
   "execution_count": 5,
   "metadata": {},
   "outputs": [
    {
     "name": "stdout",
     "output_type": "stream",
     "text": [
      "<class 'list'>\n",
      "9\n"
     ]
    }
   ],
   "source": [
    "print(type(x))\n",
    "n = len(x)\n",
    "print(n)"
   ]
  },
  {
   "cell_type": "code",
   "execution_count": 6,
   "metadata": {},
   "outputs": [
    {
     "name": "stdout",
     "output_type": "stream",
     "text": [
      "<class 'list'>\n",
      "21\n",
      "[0, 0, 0, 0, 0, 0, 0, 0, 0, 0, 0, 0, 0, 0, 0, 0, 0, 0, 0, 0, 0]\n"
     ]
    }
   ],
   "source": [
    "y = [0] * 21\n",
    "print(type(y))\n",
    "print(len(y))\n",
    "print(y)\n",
    "range(19)\n",
    "del(n)"
   ]
  },
  {
   "cell_type": "code",
   "execution_count": 7,
   "metadata": {},
   "outputs": [
    {
     "name": "stdout",
     "output_type": "stream",
     "text": [
      "<class 'list'>\n"
     ]
    }
   ],
   "source": [
    "x\n",
    "print(type(x))"
   ]
  },
  {
   "cell_type": "code",
   "execution_count": 8,
   "metadata": {
    "collapsed": true
   },
   "outputs": [],
   "source": [
    "y\n",
    "len(y)\n",
    "x = [1,2,3,4,5,6,7,8,9]"
   ]
  },
  {
   "cell_type": "code",
   "execution_count": 9,
   "metadata": {
    "collapsed": true
   },
   "outputs": [],
   "source": [
    "for n in range(8,19):\n",
    "        x = np.append(x, (x[n]+1))"
   ]
  },
  {
   "cell_type": "code",
   "execution_count": 10,
   "metadata": {
    "collapsed": true
   },
   "outputs": [],
   "source": [
    "n=19\n",
    "for n in range(8,n):\n",
    "        x = np.append(x, (x[n]+1))"
   ]
  },
  {
   "cell_type": "code",
   "execution_count": 11,
   "metadata": {
    "collapsed": true
   },
   "outputs": [],
   "source": [
    "def x_app(x,n):\n",
    "    for n in range(8,n):\n",
    "        x = np.append(x, (x[n]+1))\n",
    "    return(x)"
   ]
  },
  {
   "cell_type": "code",
   "execution_count": 12,
   "metadata": {},
   "outputs": [
    {
     "data": {
      "text/plain": [
       "array([ 1,  2,  3,  4,  5,  6,  7,  8,  9, 10, 11, 12, 13, 14, 15, 16, 17,\n",
       "       18, 19, 20, 10, 11, 12, 13, 14, 15, 16, 17, 18, 19, 20, 10, 11, 12,\n",
       "       13, 14, 15, 16, 17, 18, 19, 20])"
      ]
     },
     "execution_count": 12,
     "metadata": {},
     "output_type": "execute_result"
    }
   ],
   "source": [
    "x_app(x, 19)"
   ]
  },
  {
   "cell_type": "code",
   "execution_count": 13,
   "metadata": {},
   "outputs": [
    {
     "data": {
      "text/plain": [
       "2.5"
      ]
     },
     "execution_count": 13,
     "metadata": {},
     "output_type": "execute_result"
    }
   ],
   "source": [
    "5/2"
   ]
  },
  {
   "cell_type": "code",
   "execution_count": 14,
   "metadata": {},
   "outputs": [
    {
     "data": {
      "text/plain": [
       "2"
      ]
     },
     "execution_count": 14,
     "metadata": {},
     "output_type": "execute_result"
    }
   ],
   "source": [
    "5//2"
   ]
  },
  {
   "cell_type": "code",
   "execution_count": 15,
   "metadata": {},
   "outputs": [
    {
     "data": {
      "text/plain": [
       "1"
      ]
     },
     "execution_count": 15,
     "metadata": {},
     "output_type": "execute_result"
    }
   ],
   "source": [
    "5%2"
   ]
  },
  {
   "cell_type": "code",
   "execution_count": 16,
   "metadata": {},
   "outputs": [
    {
     "name": "stdout",
     "output_type": "stream",
     "text": [
      "(0, 1)\n",
      "<class 'tuple'>\n",
      "(1, 2)\n",
      "<class 'tuple'>\n",
      "(2, 3)\n",
      "<class 'tuple'>\n",
      "(3, 4)\n",
      "<class 'tuple'>\n",
      "(4, 5)\n",
      "<class 'tuple'>\n",
      "(5, 6)\n",
      "<class 'tuple'>\n",
      "(6, 7)\n",
      "<class 'tuple'>\n",
      "(7, 8)\n",
      "<class 'tuple'>\n",
      "(8, 9)\n",
      "<class 'tuple'>\n",
      "(9, 10)\n",
      "<class 'tuple'>\n",
      "(10, 11)\n",
      "<class 'tuple'>\n",
      "(11, 12)\n",
      "<class 'tuple'>\n",
      "(12, 13)\n",
      "<class 'tuple'>\n",
      "(13, 14)\n",
      "<class 'tuple'>\n",
      "(14, 15)\n",
      "<class 'tuple'>\n",
      "(15, 16)\n",
      "<class 'tuple'>\n",
      "(16, 17)\n",
      "<class 'tuple'>\n",
      "(17, 18)\n",
      "<class 'tuple'>\n",
      "(18, 19)\n",
      "<class 'tuple'>\n",
      "(19, 20)\n",
      "<class 'tuple'>\n",
      "(20, 10)\n",
      "<class 'tuple'>\n",
      "(21, 11)\n",
      "<class 'tuple'>\n",
      "(22, 12)\n",
      "<class 'tuple'>\n",
      "(23, 13)\n",
      "<class 'tuple'>\n",
      "(24, 14)\n",
      "<class 'tuple'>\n",
      "(25, 15)\n",
      "<class 'tuple'>\n",
      "(26, 16)\n",
      "<class 'tuple'>\n",
      "(27, 17)\n",
      "<class 'tuple'>\n",
      "(28, 18)\n",
      "<class 'tuple'>\n",
      "(29, 19)\n",
      "<class 'tuple'>\n",
      "(30, 20)\n",
      "<class 'tuple'>\n"
     ]
    }
   ],
   "source": [
    "for i in enumerate(x):\n",
    "    print(i)\n",
    "    print(type(i))"
   ]
  },
  {
   "cell_type": "code",
   "execution_count": null,
   "metadata": {
    "collapsed": true
   },
   "outputs": [],
   "source": []
  },
  {
   "cell_type": "code",
   "execution_count": null,
   "metadata": {
    "collapsed": true
   },
   "outputs": [],
   "source": []
  }
 ],
 "metadata": {
  "kernelspec": {
   "display_name": "Python 3",
   "language": "python",
   "name": "python3"
  },
  "language_info": {
   "codemirror_mode": {
    "name": "ipython",
    "version": 3
   },
   "file_extension": ".py",
   "mimetype": "text/x-python",
   "name": "python",
   "nbconvert_exporter": "python",
   "pygments_lexer": "ipython3",
   "version": "3.7.1"
  }
 },
 "nbformat": 4,
 "nbformat_minor": 2
}
