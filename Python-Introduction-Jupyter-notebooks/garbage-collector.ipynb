{
 "cells": [
  {
   "cell_type": "markdown",
   "metadata": {},
   "source": [
    "<style>div.title-slide {    width: 100%;    display: flex;    flex-direction: row;            /* default value; can be omitted */    flex-wrap: nowrap;              /* default value; can be omitted */    justify-content: space-between;}</style><div class=\"title-slide\">\n",
    "<span style=\"float:left;\">Licence CC BY-NC-ND</span>\n",
    "<span>Thierry Parmentelat &amp; Arnaud Legout</span>\n",
    "<span><img src=\"media/both-logos-small-alpha.png\" style=\"display:inline\" /></span>\n",
    "</div>"
   ]
  },
  {
   "cell_type": "markdown",
   "metadata": {},
   "source": [
    "# Memory use"
   ]
  },
  {
   "cell_type": "markdown",
   "metadata": {},
   "source": [
    "### Low level langages"
   ]
  },
  {
   "cell_type": "markdown",
   "metadata": {},
   "source": [
    "In low level langages surch as C or C++, the developper is in charge of allocating / deallocating the memory.\n",
    "\n",
    "This means that, except for values stocked in the stack, the developper has to:\n",
    " * reserve the memory in the OS explicitely calling  `malloc` (C) or `new` (C++) ;\n",
    " * give the memory back to the OS when it is no longer used, calling `free` (C) or `delete` (C++)."
   ]
  },
  {
   "cell_type": "markdown",
   "metadata": {},
   "source": [
    "So low level langages are more flexible in terme of memory but have higher developement costs."
   ]
  },
  {
   "cell_type": "markdown",
   "metadata": {},
   "source": [
    "### High level langages"
   ]
  },
  {
   "cell_type": "markdown",
   "metadata": {},
   "source": [
    "Python frees the developer from memory allocation.\n",
    "\n",
    "In python :\n",
    "* you create you objects on the fly;\n",
    "\n",
    "* you don't need to explicitely free the memory, the \"*Garbage Collector*\" recycles the memory whenever it is possible\n",
    "\n",
    "* Python tends to be greedy in memory usage compared to low level langages, because in python everything is an object and each object has \"*éta-informations* coming with it. For example, each object has at least\n",
    "  * a reference to its type (this is the price of dynamic typing) ;\n",
    "  * a reference counter: the number of other values (variable or objects) pointing to this object. This information is used by the garbage collector to determine if the memory used by anothero object dan be freed or not.\n",
    "  \n",
    " * some predefined and immutable types are iplemented in python as *singletons*, meaning one and only one object is created and shared, this is the case for instance for small integers and strings;\n",
    "\n",
    "* when a class is implemented, it is possible to affect to it this singleton characteristic, so that memory can be optimised when the object is used in a program."
   ]
  },
  {
   "cell_type": "code",
   "execution_count": 62,
   "metadata": {},
   "outputs": [
    {
     "data": {
      "text/plain": [
       "24"
      ]
     },
     "execution_count": 62,
     "metadata": {},
     "output_type": "execute_result"
    }
   ],
   "source": [
    "#only used for primary types\n",
    "import sys\n",
    "sys.getsizeof(5.3)"
   ]
  },
  {
   "cell_type": "markdown",
   "metadata": {},
   "source": [
    "###### With iptyhon use memory_profile"
   ]
  }
 ],
 "metadata": {
  "kernelspec": {
   "display_name": "Python 3",
   "language": "python",
   "name": "python3"
  },
  "language_info": {
   "codemirror_mode": {
    "name": "ipython",
    "version": 3
   },
   "file_extension": ".py",
   "mimetype": "text/x-python",
   "name": "python",
   "nbconvert_exporter": "python",
   "pygments_lexer": "ipython3",
   "version": "3.6.6"
  },
  "livereveal": {
   "auto_select": "code",
   "auto_select_fragment": true,
   "autolaunch": false,
   "backimage": "media/nologo.png",
   "height": "100%",
   "slideNumber": "c",
   "start_slideshow_at": "selected",
   "theme": "simple",
   "transition": "fade",
   "width": "100%"
  },
  "notebookname": "Gestion de la mémoire",
  "version": "3.0"
 },
 "nbformat": 4,
 "nbformat_minor": 1
}
