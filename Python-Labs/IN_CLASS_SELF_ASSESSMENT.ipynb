{
 "cells": [
  {
   "cell_type": "markdown",
   "metadata": {},
   "source": [
    "______"
   ]
  },
  {
   "cell_type": "markdown",
   "metadata": {},
   "source": [
    "## PART 1 : simple operations ~ 25 min"
   ]
  },
  {
   "cell_type": "markdown",
   "metadata": {},
   "source": [
    "### print whatever you want\n",
    "### <i>2 min </i>"
   ]
  },
  {
   "cell_type": "code",
   "execution_count": 30,
   "metadata": {},
   "outputs": [
    {
     "name": "stdout",
     "output_type": "stream",
     "text": [
      "whatever you want\n"
     ]
    }
   ],
   "source": [
    "My_Str = \"whatever you want\"\n",
    "print(My_Str)"
   ]
  },
  {
   "cell_type": "markdown",
   "metadata": {},
   "source": [
    "### print the sum  , difference and product of 2 variables\n",
    "### <i>5 min </i>"
   ]
  },
  {
   "cell_type": "code",
   "execution_count": 31,
   "metadata": {},
   "outputs": [
    {
     "name": "stdout",
     "output_type": "stream",
     "text": [
      "3\n"
     ]
    }
   ],
   "source": [
    "a = 1\n",
    "b = 2\n",
    "print(a + b)"
   ]
  },
  {
   "cell_type": "markdown",
   "metadata": {},
   "source": [
    "### print whatever you want in MAJS\n",
    "### <i>2 min </i>"
   ]
  },
  {
   "cell_type": "code",
   "execution_count": 32,
   "metadata": {},
   "outputs": [
    {
     "name": "stdout",
     "output_type": "stream",
     "text": [
      "WHATEVER YOU WANT\n"
     ]
    }
   ],
   "source": [
    "print(My_Str.upper())"
   ]
  },
  {
   "cell_type": "markdown",
   "metadata": {},
   "source": [
    "### print the type of whatever you write\n",
    "### <i>2 min </i>"
   ]
  },
  {
   "cell_type": "code",
   "execution_count": 33,
   "metadata": {},
   "outputs": [
    {
     "name": "stdout",
     "output_type": "stream",
     "text": [
      "<class 'str'>\n"
     ]
    }
   ],
   "source": [
    "print(type(My_Str))"
   ]
  },
  {
   "cell_type": "markdown",
   "metadata": {},
   "source": [
    "### print the length of some text\n",
    "### <i>2 min </i>"
   ]
  },
  {
   "cell_type": "code",
   "execution_count": 34,
   "metadata": {},
   "outputs": [
    {
     "name": "stdout",
     "output_type": "stream",
     "text": [
      "17\n"
     ]
    }
   ],
   "source": [
    "print(len(My_Str))"
   ]
  },
  {
   "cell_type": "markdown",
   "metadata": {},
   "source": [
    "### print the number of lines in some text\n",
    "### <i>2 min </i>"
   ]
  },
  {
   "cell_type": "code",
   "execution_count": null,
   "metadata": {},
   "outputs": [],
   "source": [
    "# Download the file\n",
    "! curl http://classics.mit.edu/Homer/iliad.mb.txt -o ./iliad.txt"
   ]
  },
  {
   "cell_type": "code",
   "execution_count": 65,
   "metadata": {},
   "outputs": [
    {
     "name": "stdout",
     "output_type": "stream",
     "text": [
      "13444\n"
     ]
    }
   ],
   "source": [
    "# readlines return a list\n",
    "with open(\"iliad.txt\",\"r\") as MyFile:\n",
    "    My_Len = len(MyFile.readlines())\n",
    "    \n",
    "print(My_Len)"
   ]
  },
  {
   "cell_type": "code",
   "execution_count": null,
   "metadata": {},
   "outputs": [],
   "source": [
    "# Get complete text\n",
    "with open(\"iliad.txt\",\"r\") as MyFile:\n",
    "    Some_Text = MyFile.read()"
   ]
  },
  {
   "cell_type": "code",
   "execution_count": 67,
   "metadata": {},
   "outputs": [
    {
     "name": "stdout",
     "output_type": "stream",
     "text": [
      "13444\n"
     ]
    }
   ],
   "source": [
    "# Same using splitlines\n",
    "nlines = len(Some_Text.splitlines())\n",
    "print(nlines)"
   ]
  },
  {
   "cell_type": "markdown",
   "metadata": {},
   "source": [
    "### print the number of words in each line of some text\n",
    "### <i>2 min </i>"
   ]
  },
  {
   "cell_type": "code",
   "execution_count": 68,
   "metadata": {},
   "outputs": [
    {
     "name": "stdout",
     "output_type": "stream",
     "text": [
      "152621\n"
     ]
    }
   ],
   "source": [
    "nwords = len(Some_Text.split()) \n",
    "print(nwords)"
   ]
  },
  {
   "cell_type": "markdown",
   "metadata": {},
   "source": [
    "#Test"
   ]
  },
  {
   "cell_type": "code",
   "execution_count": 9,
   "metadata": {},
   "outputs": [
    {
     "name": "stderr",
     "output_type": "stream",
     "text": [
      "\n"
     ]
    }
   ],
   "source": [
    "!curl https://archive.ics.uci.edu/ml/machine-learning-databases/iris/iris.data -o iris.data"
   ]
  },
  {
   "cell_type": "code",
   "execution_count": 21,
   "metadata": {},
   "outputs": [
    {
     "name": "stdout",
     "output_type": "stream",
     "text": [
      "151\n"
     ]
    }
   ],
   "source": [
    "def nb_lines(filename):\n",
    "    My_Len=0\n",
    "    if filename.endswith(\".data\"):\n",
    "        with open(filename,\"r\") as MyFile:\n",
    "            My_Len = len(MyFile.readlines())\n",
    "    else:\n",
    "        print(\"Wrong extension !\")\n",
    "    return My_Len\n",
    "\n",
    "print(nb_lines(\"iris.data\"))"
   ]
  },
  {
   "cell_type": "markdown",
   "metadata": {},
   "source": [
    "### print the concatenation of 2 strings\n",
    "### <i>2 min </i>"
   ]
  },
  {
   "cell_type": "code",
   "execution_count": 42,
   "metadata": {},
   "outputs": [
    {
     "name": "stdout",
     "output_type": "stream",
     "text": [
      "whatever you want\n"
     ]
    }
   ],
   "source": [
    "print(\"whatever\" + \" you want\")"
   ]
  },
  {
   "cell_type": "markdown",
   "metadata": {},
   "source": [
    "### loop through the list : my_list (using range)\n",
    "### <i>2 min </i>"
   ]
  },
  {
   "cell_type": "code",
   "execution_count": 43,
   "metadata": {},
   "outputs": [],
   "source": [
    "my_list = [\"a\",\"b\",\"c\",\"d\",\"e\",\"f\"]"
   ]
  },
  {
   "cell_type": "code",
   "execution_count": 44,
   "metadata": {},
   "outputs": [
    {
     "name": "stdout",
     "output_type": "stream",
     "text": [
      "a\n",
      "b\n",
      "c\n",
      "d\n",
      "e\n",
      "f\n"
     ]
    }
   ],
   "source": [
    "for index in range(0,6):\n",
    "    print(my_list[index])"
   ]
  },
  {
   "cell_type": "markdown",
   "metadata": {},
   "source": [
    "### loop through the list : my_list (without using range)\n",
    "### <i>2 min </i>"
   ]
  },
  {
   "cell_type": "code",
   "execution_count": 45,
   "metadata": {},
   "outputs": [
    {
     "name": "stdout",
     "output_type": "stream",
     "text": [
      "a\n",
      "b\n",
      "c\n",
      "d\n",
      "e\n",
      "f\n"
     ]
    }
   ],
   "source": [
    "for item in my_list:\n",
    "    print(item)"
   ]
  },
  {
   "cell_type": "markdown",
   "metadata": {},
   "source": [
    "### loop through the list : my_list (using an iterator = enumerate)\n",
    "### <i>2 min </i>"
   ]
  },
  {
   "cell_type": "code",
   "execution_count": 46,
   "metadata": {},
   "outputs": [
    {
     "name": "stdout",
     "output_type": "stream",
     "text": [
      "a\n",
      "b\n",
      "c\n",
      "d\n",
      "e\n",
      "f\n"
     ]
    }
   ],
   "source": [
    "for index, value in enumerate(my_list): \n",
    "    print (value) "
   ]
  },
  {
   "cell_type": "markdown",
   "metadata": {},
   "source": [
    "### loop through the list : my_list (using while)\n",
    "### <i>5 min </i>"
   ]
  },
  {
   "cell_type": "code",
   "execution_count": 48,
   "metadata": {},
   "outputs": [
    {
     "name": "stdout",
     "output_type": "stream",
     "text": [
      "a\n",
      "b\n",
      "c\n",
      "d\n",
      "e\n",
      "f\n"
     ]
    }
   ],
   "source": [
    "index = 0\n",
    "while index < len(my_list):\n",
    "    print(my_list[index])\n",
    "    index += 1"
   ]
  },
  {
   "cell_type": "markdown",
   "metadata": {},
   "source": [
    "______"
   ]
  },
  {
   "cell_type": "markdown",
   "metadata": {},
   "source": [
    "## PART 2 : functions ~1h30"
   ]
  },
  {
   "cell_type": "markdown",
   "metadata": {},
   "source": [
    "### write a function which RETURNS whatever you want : \n",
    "### <i>5 min</i>"
   ]
  },
  {
   "cell_type": "code",
   "execution_count": 50,
   "metadata": {},
   "outputs": [
    {
     "name": "stdout",
     "output_type": "stream",
     "text": [
      "whatever you want\n"
     ]
    }
   ],
   "source": [
    "def Return_Fixed_String():\n",
    "    My_Str = \"whatever you want\"\n",
    "    return My_Str\n",
    "\n",
    "print(Return_Fixed_String())"
   ]
  },
  {
   "cell_type": "markdown",
   "metadata": {},
   "source": [
    "### write a function which returns the sum , difference OR product of 2 variables based on arguments \n",
    "### <i>5 min </i>"
   ]
  },
  {
   "cell_type": "code",
   "execution_count": 25,
   "metadata": {},
   "outputs": [
    {
     "name": "stdout",
     "output_type": "stream",
     "text": [
      "-2\n"
     ]
    }
   ],
   "source": [
    "def MyOperation(opname,a,b):\n",
    "    result = 0\n",
    "    if opname.lower() == \"sum\":\n",
    "        result = a + b\n",
    "    elif opname.lower() == \"prod\":\n",
    "        result = a * b\n",
    "    elif opname.lower() == \"diff\":\n",
    "        result = a-b\n",
    "    \n",
    "    return result\n",
    "\n",
    "MyValue = MyOperation(\"diff\",3,5)\n",
    "print(MyValue)"
   ]
  },
  {
   "cell_type": "markdown",
   "metadata": {},
   "source": [
    "### write a function which  returns whatever you want in MAJS or in lowercase based on arguments \n",
    "### <i>5 min </i>"
   ]
  },
  {
   "cell_type": "code",
   "execution_count": 29,
   "metadata": {},
   "outputs": [
    {
     "name": "stdout",
     "output_type": "stream",
     "text": [
      "whetever you want\n"
     ]
    }
   ],
   "source": [
    "def up_low(uplow,my_str):\n",
    "    result = \"\"\n",
    "    if uplow.lower() == \"up\":\n",
    "        result = my_str.upper()\n",
    "    elif uplow.lower() == \"low\":\n",
    "        result = my_str.lower()\n",
    "        \n",
    "    return res\n",
    "\n",
    "Some_Str = \"WhatEver You Want\"\n",
    "R_String = UP_low(\"Low\",Some_Str)\n",
    "\n",
    "print(R_String)"
   ]
  },
  {
   "cell_type": "markdown",
   "metadata": {},
   "source": [
    "### write a function which returns the type of whatever you write, and print \"OK\" when it is lowercase \n",
    "### <i>5 min</i>"
   ]
  },
  {
   "cell_type": "code",
   "execution_count": 3,
   "metadata": {},
   "outputs": [
    {
     "name": "stdout",
     "output_type": "stream",
     "text": [
      "Type something:I am\n",
      "lower case: Not OK\n",
      "<class 'str'>\n"
     ]
    }
   ],
   "source": [
    "def check_lower(MyStr):\n",
    "    returntype = type(MyStr)\n",
    "    if MyStr.islower():\n",
    "        print(\"lower case: OK\")\n",
    "    else:\n",
    "        print(\"lower case: Not OK\")\n",
    "    return returntype    \n",
    "Input_Str = input(\"Type something:\")\n",
    "print(check_lower(Input_Str))"
   ]
  },
  {
   "cell_type": "markdown",
   "metadata": {},
   "source": [
    "### write a function which returns the number of letters of some text \n",
    "### <i>5 min</i>"
   ]
  },
  {
   "cell_type": "code",
   "execution_count": 90,
   "metadata": {},
   "outputs": [
    {
     "name": "stdout",
     "output_type": "stream",
     "text": [
      "7\n"
     ]
    }
   ],
   "source": [
    "def nb_letters(MyStr):\n",
    "    result = 0\n",
    "    for letter in MyStr:\n",
    "        if letter.isalpha():\n",
    "            result += 1\n",
    "        \n",
    "    return result\n",
    "\n",
    "print(nb_letters(\"We are in 2019!\"))"
   ]
  },
  {
   "cell_type": "markdown",
   "metadata": {},
   "source": [
    "### write a function which returns the number of words of some text  \n",
    "### <i>5 min<i>"
   ]
  },
  {
   "cell_type": "code",
   "execution_count": 91,
   "metadata": {},
   "outputs": [
    {
     "name": "stdout",
     "output_type": "stream",
     "text": [
      "152621\n"
     ]
    }
   ],
   "source": [
    "def nb_words(filename):\n",
    "    nwords = 0\n",
    "    with open(filename,\"r\") as MyFile:\n",
    "        Some_Text = MyFile.read()\n",
    "    nwords = len(Some_Text.split()) \n",
    "    return nwords\n",
    "\n",
    "print(nb_words(\"iliad.txt\"))"
   ]
  },
  {
   "cell_type": "markdown",
   "metadata": {},
   "source": [
    "### write a function which returns the number of lines  of some text \n",
    "### <i> 5 min </i>"
   ]
  },
  {
   "cell_type": "code",
   "execution_count": 83,
   "metadata": {},
   "outputs": [
    {
     "name": "stdout",
     "output_type": "stream",
     "text": [
      "13444\n"
     ]
    }
   ],
   "source": [
    "def nb_lines(filename):\n",
    "    nlines = 0\n",
    "    with open(filename,\"r\") as MyFile:\n",
    "        Some_Text = MyFile.readlines()\n",
    "    nlines = len(Some_Text) \n",
    "    return nlines\n",
    "\n",
    "print(nb_lines(\"iliad.txt\"))"
   ]
  },
  {
   "cell_type": "markdown",
   "metadata": {},
   "source": [
    "### write a function which concatenates every arguments given -whatever the number of arguments \n",
    "### <i> 5 min</i>"
   ]
  },
  {
   "cell_type": "code",
   "execution_count": 84,
   "metadata": {},
   "outputs": [
    {
     "name": "stdout",
     "output_type": "stream",
     "text": [
      "We Are In 2019 \n"
     ]
    }
   ],
   "source": [
    "def concat_all_parameters(*args):\n",
    "    result = \"\"\n",
    "    for myarg in args:\n",
    "        result += myarg + \" \"\n",
    "    return result\n",
    "\n",
    "print(concat_all_parameters(\"We\",\"Are\",\"In\",\"2019\"))"
   ]
  },
  {
   "cell_type": "markdown",
   "metadata": {},
   "source": [
    "### write a function which gives  the last letter of a  string \n",
    "### <i> 5 min</i>"
   ]
  },
  {
   "cell_type": "code",
   "execution_count": 109,
   "metadata": {},
   "outputs": [
    {
     "name": "stdout",
     "output_type": "stream",
     "text": [
      "n\n"
     ]
    }
   ],
   "source": [
    "def last_letter(My_Str):\n",
    "    result = \"\"\n",
    "    \n",
    "    for letter in My_Str:\n",
    "        if letter.isalpha():\n",
    "            result = letter\n",
    "    \n",
    "    return result\n",
    "\n",
    "print(last_letter(\"We are in 2019\"))"
   ]
  },
  {
   "cell_type": "markdown",
   "metadata": {},
   "source": [
    "### write a function which gives the number of files given the extension as argument  \n",
    "### <i> 5 min</i>"
   ]
  },
  {
   "cell_type": "code",
   "execution_count": 39,
   "metadata": {},
   "outputs": [
    {
     "name": "stdout",
     "output_type": "stream",
     "text": [
      "2\n"
     ]
    }
   ],
   "source": [
    "import os\n",
    "\n",
    "def nb_files(MyPath,MyExtension):\n",
    "    result = 0\n",
    "    MyFolderList = os.listdir(MyPath)\n",
    "    for element in MyFolderList:\n",
    "        if element.endswith(MyExtension):\n",
    "            result += 1\n",
    "    return result\n",
    "    \n",
    "CurrentPath = os.getcwd()\n",
    "print(nb_files(CurrentPath,\".py\"))"
   ]
  },
  {
   "cell_type": "markdown",
   "metadata": {},
   "source": [
    "### write a function which gives the number of files for any number of extension \n",
    "### <i> 5 min</i>"
   ]
  },
  {
   "cell_type": "code",
   "execution_count": 112,
   "metadata": {},
   "outputs": [
    {
     "name": "stdout",
     "output_type": "stream",
     "text": [
      "{'': 1, '.txt': 1, '.ipynb': 1, '.data': 1, '.py': 2, '.md': 1}\n"
     ]
    }
   ],
   "source": [
    "import os\n",
    "\n",
    "def nb_filesby_extension(MyPath):\n",
    "    result = {}\n",
    "    MyFolderList = os.listdir(MyPath)\n",
    "    for myfile in MyFolderList:\n",
    "        if not os.path.isdir(myfile):\n",
    "            filename, file_extension = os.path.splitext(myfile)\n",
    "            if file_extension in result:\n",
    "                result[file_extension] += 1\n",
    "            else:\n",
    "                result[file_extension] = 1\n",
    "        \n",
    "    return result\n",
    "    \n",
    "CurrentPath = os.getcwd()\n",
    "print(nb_filesby_extension(CurrentPath))"
   ]
  },
  {
   "cell_type": "code",
   "execution_count": null,
   "metadata": {},
   "outputs": [],
   "source": []
  },
  {
   "cell_type": "markdown",
   "metadata": {},
   "source": [
    "### write a function which copies only file to a destination folder if their extension is as specified by the arguments \n",
    "###  <i>5 min</i>"
   ]
  },
  {
   "cell_type": "code",
   "execution_count": 65,
   "metadata": {},
   "outputs": [
    {
     "name": "stdout",
     "output_type": "stream",
     "text": [
      "1 Files(s) copied\n"
     ]
    }
   ],
   "source": [
    "import os\n",
    "from shutil import copyfile\n",
    "\n",
    "def copyfile_extension(Src,Dest,Ext):\n",
    "    '''\n",
    "    This function copies any file with Ext extension from Src to Dest\n",
    "    '''\n",
    "    result = 0\n",
    "    if os.path.exists(Dest)!=True:\n",
    "         os.mkdir(Dest)\n",
    "    \n",
    "    MyFolderList = os.listdir(Src)\n",
    "    for element in MyFolderList:\n",
    "        if element.endswith(Ext):\n",
    "            SrcFile = os.path.join(Src,element)\n",
    "            DestFile = os.path.join(Dest,element)\n",
    "            copyfile(SrcFile,DestFile)\n",
    "            result += 1\n",
    "    return result\n",
    "    \n",
    "CurrentPath = os.getcwd()\n",
    "\n",
    "SrcPath = CurrentPath\n",
    "DestPath = os.path.join(CurrentPath,\"copy\")\n",
    "\n",
    "print(str(copyfile_extension(SrcPath,DestPath,\".txt\")) + \" Files(s) copied\")"
   ]
  },
  {
   "cell_type": "markdown",
   "metadata": {},
   "source": [
    "### write a function which download a pdf given the url \n",
    "### <i>10 min</i>"
   ]
  },
  {
   "cell_type": "code",
   "execution_count": null,
   "metadata": {},
   "outputs": [],
   "source": []
  },
  {
   "cell_type": "markdown",
   "metadata": {},
   "source": [
    "### write a function which reads a .csv file and print it as 1 string \n",
    "### <i>3  min</i>"
   ]
  },
  {
   "cell_type": "code",
   "execution_count": null,
   "metadata": {},
   "outputs": [],
   "source": []
  },
  {
   "cell_type": "markdown",
   "metadata": {},
   "source": [
    "### write a function which reads a .csv file and print it as 1 list\n",
    "### <i>3  min</i>"
   ]
  },
  {
   "cell_type": "code",
   "execution_count": null,
   "metadata": {},
   "outputs": [],
   "source": []
  },
  {
   "cell_type": "markdown",
   "metadata": {},
   "source": [
    "### write a function which reads a .json file and print it as 1 string \n",
    "### <i>3  min</i>"
   ]
  },
  {
   "cell_type": "code",
   "execution_count": null,
   "metadata": {},
   "outputs": [],
   "source": []
  },
  {
   "cell_type": "markdown",
   "metadata": {},
   "source": [
    "### write a function which reads a .csv file into pandas and get the top 20 lines \n",
    "### <i>2  min</i>"
   ]
  },
  {
   "cell_type": "code",
   "execution_count": null,
   "metadata": {},
   "outputs": [],
   "source": []
  },
  {
   "cell_type": "markdown",
   "metadata": {},
   "source": [
    "### write a function which transforms a file from one format to  another (specified in the arguments) \n",
    "### <i>7min</i>"
   ]
  },
  {
   "cell_type": "code",
   "execution_count": null,
   "metadata": {},
   "outputs": [],
   "source": []
  },
  {
   "cell_type": "markdown",
   "metadata": {},
   "source": [
    "### write a function which reads any file( .csv, .xls, .tsv, .json) file CORRECTLY into pandas and get the top 20 lines\n",
    "###  <i>10 min</i>"
   ]
  },
  {
   "cell_type": "code",
   "execution_count": null,
   "metadata": {},
   "outputs": [],
   "source": []
  },
  {
   "cell_type": "markdown",
   "metadata": {},
   "source": [
    "### create your generator: my gene_3 :\n",
    "## returning numbers < 500\n",
    "### which returns only the numbers divisible by 3\n",
    "### <i>10 min </i>"
   ]
  },
  {
   "cell_type": "code",
   "execution_count": null,
   "metadata": {},
   "outputs": [],
   "source": []
  },
  {
   "cell_type": "markdown",
   "metadata": {},
   "source": [
    "_________"
   ]
  },
  {
   "cell_type": "code",
   "execution_count": 133,
   "metadata": {},
   "outputs": [],
   "source": [
    "class Dataset(object):\n",
    "    \n",
    "    def __init__(self, link,size=0):\n",
    "        # my_link attribute\n",
    "        self.my_link=link\n",
    "        self.my_size=size\n",
    "        \n",
    "    def my_size(self):\n",
    "        My_Len=0\n",
    "        if self.my_link.endswith(\".data\"):\n",
    "            with open(self.my_link,\"r\") as MyFile:\n",
    "                My_Len = len(MyFile.readlines())\n",
    "        else:\n",
    "            print(\"Wrong extension !\")\n",
    "        return My_Len"
   ]
  },
  {
   "cell_type": "code",
   "execution_count": 137,
   "metadata": {},
   "outputs": [
    {
     "name": "stdout",
     "output_type": "stream",
     "text": [
      "0\n"
     ]
    }
   ],
   "source": [
    "# ds_iris = Dataset(link='https://archive.ics.uci.edu/ml/machine-learning-databases/iris/iris.data')\n",
    "ds_iris = Dataset(link='iris.data')\n",
    "a=ds_iris.my_size\n",
    "print(a)\n",
    "\n",
    "# NOT WORKING 17:15"
   ]
  },
  {
   "cell_type": "markdown",
   "metadata": {},
   "source": [
    "## PART 3 : classes"
   ]
  },
  {
   "cell_type": "markdown",
   "metadata": {},
   "source": [
    "### class 1\n",
    "<i>10min</i>"
   ]
  },
  {
   "cell_type": "markdown",
   "metadata": {},
   "source": [
    "create a class named \"Bottle\" initialized with :\n",
    "   - attribute \"name_of_beverage\" (string)\n",
    "   - attribute \"type_of_beverage\" (string)\n",
    "   - attribute size (integer)\n",
    "   - attribute \"full\" (boolean)"
   ]
  },
  {
   "cell_type": "markdown",
   "metadata": {},
   "source": [
    "instantiate the class \"Bottle\" with existing beverage"
   ]
  },
  {
   "cell_type": "code",
   "execution_count": null,
   "metadata": {},
   "outputs": [],
   "source": []
  },
  {
   "cell_type": "markdown",
   "metadata": {},
   "source": [
    "### class 2\n",
    "<i>10min</i>"
   ]
  },
  {
   "cell_type": "markdown",
   "metadata": {},
   "source": [
    "<b>create a class named \"Medicine\" with :</b>\n",
    "    <br>(initialization)\n",
    "   - attribute \"type_of_medicine\" (string)\n",
    "   - attribute quantity (integer)\n",
    "   - attribute \"full\" (boolean)\n",
    "   - attribute \"info\"\n",
    "   \n",
    "<b>create one <u>instance</u> functions:</b>\n",
    "   - function give_me_info (returns the med info)"
   ]
  },
  {
   "cell_type": "markdown",
   "metadata": {},
   "source": [
    "instantiate the class \"Medicine\" with existing info on Doctissimo"
   ]
  },
  {
   "cell_type": "code",
   "execution_count": null,
   "metadata": {},
   "outputs": [],
   "source": []
  },
  {
   "cell_type": "markdown",
   "metadata": {},
   "source": [
    "### class 3\n",
    "<i>15min</i>"
   ]
  },
  {
   "cell_type": "markdown",
   "metadata": {},
   "source": [
    "<b>Create a class named \"Fridge\" with :</b>\n",
    "    <br>(initialization)\n",
    "   - attribute \"type_of_fridge\" (string, default = \"French\")\n",
    "   - attribute \"full\" (boolean, default = False)\n",
    "   - attribute max_capacity (integer, default = 100)\n",
    "   - attribute \"stuff_inside_the_fridge\" (list of Bottles) <br>\n",
    "   \n",
    "<b>Create a set of <u>instance</u> functions:</b>\n",
    "   - function \"put_stuff(stuff)\" (puts stuff in the fridge)\n",
    "   - function \"is_full()\" (checks if the fridge is full)\n",
    "   - function \"give_me_the_ith_element_inside_the_fridge(i)\" (which allows to find the ith bottle put in the fridge)"
   ]
  },
  {
   "cell_type": "markdown",
   "metadata": {},
   "source": [
    "- instantiate the class \"Fridge\" with the right info:\n",
    "    \"American\", max_capacity = 2000, full = False, stuff_inside_the_fridge = None\n",
    "- add 10 bottles from the following csv:\n",
    "    https://www.kaggle.com/joykim92/beerscsv"
   ]
  },
  {
   "cell_type": "markdown",
   "metadata": {},
   "source": [
    "https://thispointer.com/python-how-to-make-a-class-iterable-create-iterator-class-for-it/"
   ]
  },
  {
   "cell_type": "markdown",
   "metadata": {},
   "source": [
    "____"
   ]
  },
  {
   "cell_type": "markdown",
   "metadata": {},
   "source": [
    "## PART 4 : read data in\n",
    "<i>20 min</i>"
   ]
  },
  {
   "cell_type": "code",
   "execution_count": 2,
   "metadata": {},
   "outputs": [],
   "source": [
    "go to https://archive.ics.uci.edu/ml/machine-learning-databases/car/car"
   ]
  },
  {
   "cell_type": "markdown",
   "metadata": {},
   "source": [
    " - Read the dataframe\n",
    " - Is there any column in the dataset .data ?\n",
    " - Where is the info about the dataset ?\n",
    " - What package will be used to read data in ?\n",
    " - What type of data are you in presence with ?\n",
    " - How many features are you dealing with ?\n",
    " - What is the target variable ?\n",
    " - Can you do simple stats ?\n",
    " - Prepare test set and training set\n",
    " - Plot data (how can you plot?)"
   ]
  },
  {
   "cell_type": "code",
   "execution_count": 91,
   "metadata": {},
   "outputs": [],
   "source": [
    "df = pd.read_csv(\"https://archive.ics.uci.edu/ml/machine-learning-databases/car/car.data\", header=None)"
   ]
  },
  {
   "cell_type": "code",
   "execution_count": null,
   "metadata": {},
   "outputs": [],
   "source": []
  },
  {
   "cell_type": "code",
   "execution_count": 92,
   "metadata": {},
   "outputs": [],
   "source": [
    "df_workon = df.copy()"
   ]
  },
  {
   "cell_type": "code",
   "execution_count": null,
   "metadata": {},
   "outputs": [],
   "source": []
  },
  {
   "cell_type": "code",
   "execution_count": 98,
   "metadata": {},
   "outputs": [
    {
     "data": {
      "text/html": [
       "<div>\n",
       "<style scoped>\n",
       "    .dataframe tbody tr th:only-of-type {\n",
       "        vertical-align: middle;\n",
       "    }\n",
       "\n",
       "    .dataframe tbody tr th {\n",
       "        vertical-align: top;\n",
       "    }\n",
       "\n",
       "    .dataframe thead th {\n",
       "        text-align: right;\n",
       "    }\n",
       "</style>\n",
       "<table border=\"1\" class=\"dataframe\">\n",
       "  <thead>\n",
       "    <tr style=\"text-align: right;\">\n",
       "      <th></th>\n",
       "      <th>a</th>\n",
       "      <th>b</th>\n",
       "      <th>c</th>\n",
       "      <th>d</th>\n",
       "      <th>e</th>\n",
       "      <th>f</th>\n",
       "      <th>g</th>\n",
       "    </tr>\n",
       "  </thead>\n",
       "  <tbody>\n",
       "    <tr>\n",
       "      <td>0</td>\n",
       "      <td>3</td>\n",
       "      <td>vhigh</td>\n",
       "      <td>2</td>\n",
       "      <td>2</td>\n",
       "      <td>small</td>\n",
       "      <td>low</td>\n",
       "      <td>unacc</td>\n",
       "    </tr>\n",
       "    <tr>\n",
       "      <td>1</td>\n",
       "      <td>3</td>\n",
       "      <td>vhigh</td>\n",
       "      <td>2</td>\n",
       "      <td>2</td>\n",
       "      <td>small</td>\n",
       "      <td>med</td>\n",
       "      <td>unacc</td>\n",
       "    </tr>\n",
       "    <tr>\n",
       "      <td>2</td>\n",
       "      <td>3</td>\n",
       "      <td>vhigh</td>\n",
       "      <td>2</td>\n",
       "      <td>2</td>\n",
       "      <td>small</td>\n",
       "      <td>high</td>\n",
       "      <td>unacc</td>\n",
       "    </tr>\n",
       "  </tbody>\n",
       "</table>\n",
       "</div>"
      ],
      "text/plain": [
       "   a      b  c  d      e     f      g\n",
       "0  3  vhigh  2  2  small   low  unacc\n",
       "1  3  vhigh  2  2  small   med  unacc\n",
       "2  3  vhigh  2  2  small  high  unacc"
      ]
     },
     "execution_count": 98,
     "metadata": {},
     "output_type": "execute_result"
    }
   ],
   "source": [
    "df_workon.head(3)"
   ]
  },
  {
   "cell_type": "code",
   "execution_count": null,
   "metadata": {},
   "outputs": [],
   "source": []
  },
  {
   "cell_type": "code",
   "execution_count": 93,
   "metadata": {},
   "outputs": [],
   "source": [
    "df_workon.columns = [\"a\",\"b\",\"c\",\"d\",\"e\",\"f\",\"g\"]"
   ]
  },
  {
   "cell_type": "code",
   "execution_count": null,
   "metadata": {},
   "outputs": [],
   "source": []
  },
  {
   "cell_type": "code",
   "execution_count": 94,
   "metadata": {},
   "outputs": [
    {
     "data": {
      "text/plain": [
       "array(['vhigh', 'high', 'med', 'low'], dtype=object)"
      ]
     },
     "execution_count": 94,
     "metadata": {},
     "output_type": "execute_result"
    }
   ],
   "source": [
    "df_workon.loc[:,\"a\"].unique()"
   ]
  },
  {
   "cell_type": "code",
   "execution_count": null,
   "metadata": {},
   "outputs": [],
   "source": []
  },
  {
   "cell_type": "code",
   "execution_count": 95,
   "metadata": {},
   "outputs": [],
   "source": [
    "df_workon[\"a\"][df_workon.loc[:,\"a\"]==\"vhigh\"] = 3\n",
    "df_workon[\"a\"][df_workon.loc[:,\"a\"]==\"high\"] = 2\n",
    "df_workon[\"a\"][df_workon.loc[:,\"a\"]==\"med\"] = 1\n",
    "df_workon[\"a\"][df_workon.loc[:,\"a\"]==\"low\"] = 0"
   ]
  },
  {
   "cell_type": "code",
   "execution_count": 96,
   "metadata": {},
   "outputs": [
    {
     "data": {
      "text/plain": [
       "array(['vhigh', 'high', 'med', 'low'], dtype=object)"
      ]
     },
     "execution_count": 96,
     "metadata": {},
     "output_type": "execute_result"
    }
   ],
   "source": [
    "df_workon.loc[:,\"b\"].unique()"
   ]
  },
  {
   "cell_type": "code",
   "execution_count": 88,
   "metadata": {},
   "outputs": [],
   "source": []
  },
  {
   "cell_type": "code",
   "execution_count": 90,
   "metadata": {},
   "outputs": [
    {
     "data": {
      "text/plain": [
       "array(['2', '3', '4', '5more'], dtype=object)"
      ]
     },
     "execution_count": 90,
     "metadata": {},
     "output_type": "execute_result"
    }
   ],
   "source": [
    "df_workon[\"c\"]"
   ]
  },
  {
   "cell_type": "code",
   "execution_count": null,
   "metadata": {},
   "outputs": [],
   "source": []
  },
  {
   "cell_type": "code",
   "execution_count": null,
   "metadata": {},
   "outputs": [],
   "source": [
    "df_workon[\"d\"]"
   ]
  },
  {
   "cell_type": "code",
   "execution_count": null,
   "metadata": {},
   "outputs": [],
   "source": []
  },
  {
   "cell_type": "code",
   "execution_count": null,
   "metadata": {},
   "outputs": [],
   "source": [
    "df_workon[\"e\"]"
   ]
  },
  {
   "cell_type": "code",
   "execution_count": null,
   "metadata": {},
   "outputs": [],
   "source": []
  },
  {
   "cell_type": "code",
   "execution_count": null,
   "metadata": {},
   "outputs": [],
   "source": [
    "df_workon[\"f\"]"
   ]
  },
  {
   "cell_type": "code",
   "execution_count": null,
   "metadata": {},
   "outputs": [],
   "source": []
  },
  {
   "cell_type": "code",
   "execution_count": 107,
   "metadata": {},
   "outputs": [
    {
     "data": {
      "text/plain": [
       "array(['unacc', 'acc', 'vgood', 'good'], dtype=object)"
      ]
     },
     "execution_count": 107,
     "metadata": {},
     "output_type": "execute_result"
    }
   ],
   "source": [
    "df_workon[\"g\"].unique()"
   ]
  },
  {
   "cell_type": "code",
   "execution_count": 108,
   "metadata": {},
   "outputs": [],
   "source": [
    "df_workon[\"g\"][df_workon.loc[:,\"g\"]==\"unacc\"] = 3\n",
    "df_workon[\"g\"][df_workon.loc[:,\"g\"]==\"acc\"] = 2\n",
    "df_workon[\"g\"][df_workon.loc[:,\"g\"]==\"vgood\"] = 1\n",
    "df_workon[\"g\"][df_workon.loc[:,\"g\"]==\"good\"] = 0"
   ]
  },
  {
   "cell_type": "code",
   "execution_count": 109,
   "metadata": {},
   "outputs": [
    {
     "data": {
      "image/png": "[encoded data removed]",
      "text/plain": [
       "<Figure size 432x288 with 1 Axes>"
      ]
     },
     "metadata": {
      "needs_background": "light"
     },
     "output_type": "display_data"
    }
   ],
   "source": [
    "import matplotlib.pyplot as plt\n",
    "df_workon[\"g\"].hist()\n",
    "plt.show()"
   ]
  },
  {
   "cell_type": "code",
   "execution_count": 103,
   "metadata": {},
   "outputs": [
    {
     "data": {
      "image/png": "[encoded data removed]",
      "text/plain": [
       "<Figure size 432x288 with 1 Axes>"
      ]
     },
     "metadata": {
      "needs_background": "light"
     },
     "output_type": "display_data"
    }
   ],
   "source": [
    "import matplotlib.pyplot as plt\n",
    "df_workon[\"a\"].hist()\n",
    "plt.show()"
   ]
  },
  {
   "cell_type": "code",
   "execution_count": null,
   "metadata": {},
   "outputs": [],
   "source": []
  }
 ],
 "metadata": {
  "kernelspec": {
   "display_name": "Python 3",
   "language": "python",
   "name": "python3"
  },
  "language_info": {
   "codemirror_mode": {
    "name": "ipython",
    "version": 3
   },
   "file_extension": ".py",
   "mimetype": "text/x-python",
   "name": "python",
   "nbconvert_exporter": "python",
   "pygments_lexer": "ipython3",
   "version": "3.6.9"
  }
 },
 "nbformat": 4,
 "nbformat_minor": 2
}
